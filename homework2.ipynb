{
  "nbformat": 4,
  "nbformat_minor": 0,
  "metadata": {
    "colab": {
      "name": "homework2.ipynb",
      "provenance": [],
      "authorship_tag": "ABX9TyPFO9h2qDvC0xj4ey0m8wWS",
      "include_colab_link": true
    },
    "kernelspec": {
      "name": "python3",
      "display_name": "Python 3"
    },
    "language_info": {
      "name": "python"
    }
  },
  "cells": [
    {
      "cell_type": "markdown",
      "metadata": {
        "id": "view-in-github",
        "colab_type": "text"
      },
      "source": [
        "<a href=\"https://colab.research.google.com/github/dpdms529/ML/blob/main/homework2.ipynb\" target=\"_parent\"><img src=\"https://colab.research.google.com/assets/colab-badge.svg\" alt=\"Open In Colab\"/></a>"
      ]
    },
    {
      "cell_type": "code",
      "metadata": {
        "id": "N5tjrRpekeX8"
      },
      "source": [
        "import os\n",
        "os.environ['KAGGLE_USERNAME'] = \"\"\n",
        "os.environ['KAGGLE_KEY'] = \"\""
      ],
      "execution_count": 1,
      "outputs": []
    },
    {
      "cell_type": "code",
      "metadata": {
        "colab": {
          "base_uri": "https://localhost:8080/"
        },
        "id": "MAUeYVgLn7Kw",
        "outputId": "44de95f2-91e8-415c-9211-c556e178d4a2"
      },
      "source": [
        "!kaggle datasets download -d kandij/diabetes-dataset"
      ],
      "execution_count": 2,
      "outputs": [
        {
          "output_type": "stream",
          "text": [
            "Downloading diabetes-dataset.zip to /content\n",
            "\r  0% 0.00/8.92k [00:00<?, ?B/s]\n",
            "\r100% 8.92k/8.92k [00:00<00:00, 16.5MB/s]\n"
          ],
          "name": "stdout"
        }
      ]
    },
    {
      "cell_type": "code",
      "metadata": {
        "colab": {
          "base_uri": "https://localhost:8080/"
        },
        "id": "0SDx-lPsoCIK",
        "outputId": "4aa443e7-a1ea-4230-a345-ff3184b60ea7"
      },
      "source": [
        "!unzip diabetes-dataset.zip"
      ],
      "execution_count": 3,
      "outputs": [
        {
          "output_type": "stream",
          "text": [
            "Archive:  diabetes-dataset.zip\n",
            "  inflating: diabetes2.csv           \n"
          ],
          "name": "stdout"
        }
      ]
    },
    {
      "cell_type": "code",
      "metadata": {
        "id": "6DNhsuqDoFu7"
      },
      "source": [
        "from tensorflow.keras.models import Sequential\n",
        "from tensorflow.keras.layers import Dense\n",
        "from tensorflow.keras.optimizers import Adam,SGD\n",
        "import numpy as np\n",
        "import pandas as pd\n",
        "import matplotlib.pyplot as plt\n",
        "import seaborn as sns\n",
        "from sklearn.model_selection import train_test_split\n",
        "from sklearn.preprocessing import StandardScaler\n"
      ],
      "execution_count": 4,
      "outputs": []
    },
    {
      "cell_type": "code",
      "metadata": {
        "colab": {
          "base_uri": "https://localhost:8080/",
          "height": 224
        },
        "id": "pE9EYXsfohS9",
        "outputId": "b17b94c6-c9c0-4e0d-e9bc-1be70dccb32b"
      },
      "source": [
        "df = pd.read_csv('diabetes2.csv')\n",
        "df.head(5)"
      ],
      "execution_count": 5,
      "outputs": [
        {
          "output_type": "execute_result",
          "data": {
            "text/html": [
              "<div>\n",
              "<style scoped>\n",
              "    .dataframe tbody tr th:only-of-type {\n",
              "        vertical-align: middle;\n",
              "    }\n",
              "\n",
              "    .dataframe tbody tr th {\n",
              "        vertical-align: top;\n",
              "    }\n",
              "\n",
              "    .dataframe thead th {\n",
              "        text-align: right;\n",
              "    }\n",
              "</style>\n",
              "<table border=\"1\" class=\"dataframe\">\n",
              "  <thead>\n",
              "    <tr style=\"text-align: right;\">\n",
              "      <th></th>\n",
              "      <th>Pregnancies</th>\n",
              "      <th>Glucose</th>\n",
              "      <th>BloodPressure</th>\n",
              "      <th>SkinThickness</th>\n",
              "      <th>Insulin</th>\n",
              "      <th>BMI</th>\n",
              "      <th>DiabetesPedigreeFunction</th>\n",
              "      <th>Age</th>\n",
              "      <th>Outcome</th>\n",
              "    </tr>\n",
              "  </thead>\n",
              "  <tbody>\n",
              "    <tr>\n",
              "      <th>0</th>\n",
              "      <td>6</td>\n",
              "      <td>148</td>\n",
              "      <td>72</td>\n",
              "      <td>35</td>\n",
              "      <td>0</td>\n",
              "      <td>33.6</td>\n",
              "      <td>0.627</td>\n",
              "      <td>50</td>\n",
              "      <td>1</td>\n",
              "    </tr>\n",
              "    <tr>\n",
              "      <th>1</th>\n",
              "      <td>1</td>\n",
              "      <td>85</td>\n",
              "      <td>66</td>\n",
              "      <td>29</td>\n",
              "      <td>0</td>\n",
              "      <td>26.6</td>\n",
              "      <td>0.351</td>\n",
              "      <td>31</td>\n",
              "      <td>0</td>\n",
              "    </tr>\n",
              "    <tr>\n",
              "      <th>2</th>\n",
              "      <td>8</td>\n",
              "      <td>183</td>\n",
              "      <td>64</td>\n",
              "      <td>0</td>\n",
              "      <td>0</td>\n",
              "      <td>23.3</td>\n",
              "      <td>0.672</td>\n",
              "      <td>32</td>\n",
              "      <td>1</td>\n",
              "    </tr>\n",
              "    <tr>\n",
              "      <th>3</th>\n",
              "      <td>1</td>\n",
              "      <td>89</td>\n",
              "      <td>66</td>\n",
              "      <td>23</td>\n",
              "      <td>94</td>\n",
              "      <td>28.1</td>\n",
              "      <td>0.167</td>\n",
              "      <td>21</td>\n",
              "      <td>0</td>\n",
              "    </tr>\n",
              "    <tr>\n",
              "      <th>4</th>\n",
              "      <td>0</td>\n",
              "      <td>137</td>\n",
              "      <td>40</td>\n",
              "      <td>35</td>\n",
              "      <td>168</td>\n",
              "      <td>43.1</td>\n",
              "      <td>2.288</td>\n",
              "      <td>33</td>\n",
              "      <td>1</td>\n",
              "    </tr>\n",
              "  </tbody>\n",
              "</table>\n",
              "</div>"
            ],
            "text/plain": [
              "   Pregnancies  Glucose  BloodPressure  ...  DiabetesPedigreeFunction  Age  Outcome\n",
              "0            6      148             72  ...                     0.627   50        1\n",
              "1            1       85             66  ...                     0.351   31        0\n",
              "2            8      183             64  ...                     0.672   32        1\n",
              "3            1       89             66  ...                     0.167   21        0\n",
              "4            0      137             40  ...                     2.288   33        1\n",
              "\n",
              "[5 rows x 9 columns]"
            ]
          },
          "metadata": {
            "tags": []
          },
          "execution_count": 5
        }
      ]
    },
    {
      "cell_type": "code",
      "metadata": {
        "colab": {
          "base_uri": "https://localhost:8080/",
          "height": 204
        },
        "id": "HeQygLyNomG7",
        "outputId": "60174168-2005-4d34-8fa2-2fa49351ddac"
      },
      "source": [
        "x_data = df.drop(columns=['Outcome'], axis = 1)\n",
        "x_data = x_data.astype(np.float32)\n",
        "\n",
        "x_data.head(5)"
      ],
      "execution_count": 6,
      "outputs": [
        {
          "output_type": "execute_result",
          "data": {
            "text/html": [
              "<div>\n",
              "<style scoped>\n",
              "    .dataframe tbody tr th:only-of-type {\n",
              "        vertical-align: middle;\n",
              "    }\n",
              "\n",
              "    .dataframe tbody tr th {\n",
              "        vertical-align: top;\n",
              "    }\n",
              "\n",
              "    .dataframe thead th {\n",
              "        text-align: right;\n",
              "    }\n",
              "</style>\n",
              "<table border=\"1\" class=\"dataframe\">\n",
              "  <thead>\n",
              "    <tr style=\"text-align: right;\">\n",
              "      <th></th>\n",
              "      <th>Pregnancies</th>\n",
              "      <th>Glucose</th>\n",
              "      <th>BloodPressure</th>\n",
              "      <th>SkinThickness</th>\n",
              "      <th>Insulin</th>\n",
              "      <th>BMI</th>\n",
              "      <th>DiabetesPedigreeFunction</th>\n",
              "      <th>Age</th>\n",
              "    </tr>\n",
              "  </thead>\n",
              "  <tbody>\n",
              "    <tr>\n",
              "      <th>0</th>\n",
              "      <td>6.0</td>\n",
              "      <td>148.0</td>\n",
              "      <td>72.0</td>\n",
              "      <td>35.0</td>\n",
              "      <td>0.0</td>\n",
              "      <td>33.599998</td>\n",
              "      <td>0.627</td>\n",
              "      <td>50.0</td>\n",
              "    </tr>\n",
              "    <tr>\n",
              "      <th>1</th>\n",
              "      <td>1.0</td>\n",
              "      <td>85.0</td>\n",
              "      <td>66.0</td>\n",
              "      <td>29.0</td>\n",
              "      <td>0.0</td>\n",
              "      <td>26.600000</td>\n",
              "      <td>0.351</td>\n",
              "      <td>31.0</td>\n",
              "    </tr>\n",
              "    <tr>\n",
              "      <th>2</th>\n",
              "      <td>8.0</td>\n",
              "      <td>183.0</td>\n",
              "      <td>64.0</td>\n",
              "      <td>0.0</td>\n",
              "      <td>0.0</td>\n",
              "      <td>23.299999</td>\n",
              "      <td>0.672</td>\n",
              "      <td>32.0</td>\n",
              "    </tr>\n",
              "    <tr>\n",
              "      <th>3</th>\n",
              "      <td>1.0</td>\n",
              "      <td>89.0</td>\n",
              "      <td>66.0</td>\n",
              "      <td>23.0</td>\n",
              "      <td>94.0</td>\n",
              "      <td>28.100000</td>\n",
              "      <td>0.167</td>\n",
              "      <td>21.0</td>\n",
              "    </tr>\n",
              "    <tr>\n",
              "      <th>4</th>\n",
              "      <td>0.0</td>\n",
              "      <td>137.0</td>\n",
              "      <td>40.0</td>\n",
              "      <td>35.0</td>\n",
              "      <td>168.0</td>\n",
              "      <td>43.099998</td>\n",
              "      <td>2.288</td>\n",
              "      <td>33.0</td>\n",
              "    </tr>\n",
              "  </tbody>\n",
              "</table>\n",
              "</div>"
            ],
            "text/plain": [
              "   Pregnancies  Glucose  ...  DiabetesPedigreeFunction   Age\n",
              "0          6.0    148.0  ...                     0.627  50.0\n",
              "1          1.0     85.0  ...                     0.351  31.0\n",
              "2          8.0    183.0  ...                     0.672  32.0\n",
              "3          1.0     89.0  ...                     0.167  21.0\n",
              "4          0.0    137.0  ...                     2.288  33.0\n",
              "\n",
              "[5 rows x 8 columns]"
            ]
          },
          "metadata": {
            "tags": []
          },
          "execution_count": 6
        }
      ]
    },
    {
      "cell_type": "code",
      "metadata": {
        "colab": {
          "base_uri": "https://localhost:8080/",
          "height": 204
        },
        "id": "NjTvdYgDoxFr",
        "outputId": "312e6cbe-1b59-442c-aa40-333a932041db"
      },
      "source": [
        "y_data = df[['Outcome']]\n",
        "y_data = y_data.astype(np.float32)\n",
        "\n",
        "y_data.head(5)"
      ],
      "execution_count": 7,
      "outputs": [
        {
          "output_type": "execute_result",
          "data": {
            "text/html": [
              "<div>\n",
              "<style scoped>\n",
              "    .dataframe tbody tr th:only-of-type {\n",
              "        vertical-align: middle;\n",
              "    }\n",
              "\n",
              "    .dataframe tbody tr th {\n",
              "        vertical-align: top;\n",
              "    }\n",
              "\n",
              "    .dataframe thead th {\n",
              "        text-align: right;\n",
              "    }\n",
              "</style>\n",
              "<table border=\"1\" class=\"dataframe\">\n",
              "  <thead>\n",
              "    <tr style=\"text-align: right;\">\n",
              "      <th></th>\n",
              "      <th>Outcome</th>\n",
              "    </tr>\n",
              "  </thead>\n",
              "  <tbody>\n",
              "    <tr>\n",
              "      <th>0</th>\n",
              "      <td>1.0</td>\n",
              "    </tr>\n",
              "    <tr>\n",
              "      <th>1</th>\n",
              "      <td>0.0</td>\n",
              "    </tr>\n",
              "    <tr>\n",
              "      <th>2</th>\n",
              "      <td>1.0</td>\n",
              "    </tr>\n",
              "    <tr>\n",
              "      <th>3</th>\n",
              "      <td>0.0</td>\n",
              "    </tr>\n",
              "    <tr>\n",
              "      <th>4</th>\n",
              "      <td>1.0</td>\n",
              "    </tr>\n",
              "  </tbody>\n",
              "</table>\n",
              "</div>"
            ],
            "text/plain": [
              "   Outcome\n",
              "0      1.0\n",
              "1      0.0\n",
              "2      1.0\n",
              "3      0.0\n",
              "4      1.0"
            ]
          },
          "metadata": {
            "tags": []
          },
          "execution_count": 7
        }
      ]
    },
    {
      "cell_type": "code",
      "metadata": {
        "colab": {
          "base_uri": "https://localhost:8080/"
        },
        "id": "xhT8AeNSo4vr",
        "outputId": "00404fbd-0ec8-494c-932d-8bc2a8bff09c"
      },
      "source": [
        "scaler = StandardScaler()\n",
        "x_data_scaled = scaler.fit_transform(x_data)\n",
        "\n",
        "print(x_data.values[0])\n",
        "print(x_data_scaled[0])"
      ],
      "execution_count": 8,
      "outputs": [
        {
          "output_type": "stream",
          "text": [
            "[  6.    148.     72.     35.      0.     33.6     0.627  50.   ]\n",
            "[ 0.6399473   0.8483238   0.14964075  0.90726995 -0.6928905   0.20401257\n",
            "  0.46849188  1.4259955 ]\n"
          ],
          "name": "stdout"
        }
      ]
    },
    {
      "cell_type": "code",
      "metadata": {
        "colab": {
          "base_uri": "https://localhost:8080/"
        },
        "id": "rIne1iF_pC7q",
        "outputId": "e1487cf2-830e-4d5a-e134-7cf03151136c"
      },
      "source": [
        "x_train, x_val, y_train, y_val = train_test_split(x_data_scaled, y_data, test_size = 0.2, random_state = 2021)\n",
        "\n",
        "print(x_train.shape,x_val.shape)\n",
        "print(y_train.shape,y_val.shape)"
      ],
      "execution_count": 9,
      "outputs": [
        {
          "output_type": "stream",
          "text": [
            "(614, 8) (154, 8)\n",
            "(614, 1) (154, 1)\n"
          ],
          "name": "stdout"
        }
      ]
    },
    {
      "cell_type": "code",
      "metadata": {
        "colab": {
          "base_uri": "https://localhost:8080/"
        },
        "id": "KiWF0oLBpQ_X",
        "outputId": "55575894-63b3-4bf3-c858-5ab2c83373e0"
      },
      "source": [
        "model = Sequential([\n",
        "                    Dense(1, activation='sigmoid')\n",
        "])\n",
        "\n",
        "model.compile(loss='binary_crossentropy', optimizer=Adam(lr=0.01),metrics=['acc'])\n",
        "\n",
        "model.fit(\n",
        "    x_train,\n",
        "    y_train,\n",
        "    validation_data = (x_val, y_val),\n",
        "    epochs=20\n",
        ")"
      ],
      "execution_count": 11,
      "outputs": [
        {
          "output_type": "stream",
          "text": [
            "/usr/local/lib/python3.7/dist-packages/tensorflow/python/keras/optimizer_v2/optimizer_v2.py:375: UserWarning: The `lr` argument is deprecated, use `learning_rate` instead.\n",
            "  \"The `lr` argument is deprecated, use `learning_rate` instead.\")\n"
          ],
          "name": "stderr"
        },
        {
          "output_type": "stream",
          "text": [
            "Epoch 1/20\n",
            "20/20 [==============================] - 1s 10ms/step - loss: 0.7174 - acc: 0.6010 - val_loss: 0.6622 - val_acc: 0.6299\n",
            "Epoch 2/20\n",
            "20/20 [==============================] - 0s 2ms/step - loss: 0.6348 - acc: 0.6743 - val_loss: 0.5983 - val_acc: 0.6623\n",
            "Epoch 3/20\n",
            "20/20 [==============================] - 0s 3ms/step - loss: 0.5812 - acc: 0.7020 - val_loss: 0.5532 - val_acc: 0.7013\n",
            "Epoch 4/20\n",
            "20/20 [==============================] - 0s 3ms/step - loss: 0.5447 - acc: 0.7215 - val_loss: 0.5244 - val_acc: 0.7143\n",
            "Epoch 5/20\n",
            "20/20 [==============================] - 0s 3ms/step - loss: 0.5216 - acc: 0.7557 - val_loss: 0.5100 - val_acc: 0.7273\n",
            "Epoch 6/20\n",
            "20/20 [==============================] - 0s 3ms/step - loss: 0.5073 - acc: 0.7671 - val_loss: 0.4965 - val_acc: 0.7597\n",
            "Epoch 7/20\n",
            "20/20 [==============================] - 0s 3ms/step - loss: 0.4966 - acc: 0.7704 - val_loss: 0.4918 - val_acc: 0.7468\n",
            "Epoch 8/20\n",
            "20/20 [==============================] - 0s 3ms/step - loss: 0.4880 - acc: 0.7785 - val_loss: 0.4835 - val_acc: 0.7597\n",
            "Epoch 9/20\n",
            "20/20 [==============================] - 0s 2ms/step - loss: 0.4836 - acc: 0.7769 - val_loss: 0.4805 - val_acc: 0.7597\n",
            "Epoch 10/20\n",
            "20/20 [==============================] - 0s 3ms/step - loss: 0.4815 - acc: 0.7752 - val_loss: 0.4756 - val_acc: 0.7792\n",
            "Epoch 11/20\n",
            "20/20 [==============================] - 0s 3ms/step - loss: 0.4786 - acc: 0.7785 - val_loss: 0.4744 - val_acc: 0.7792\n",
            "Epoch 12/20\n",
            "20/20 [==============================] - 0s 3ms/step - loss: 0.4766 - acc: 0.7834 - val_loss: 0.4734 - val_acc: 0.7727\n",
            "Epoch 13/20\n",
            "20/20 [==============================] - 0s 3ms/step - loss: 0.4760 - acc: 0.7785 - val_loss: 0.4713 - val_acc: 0.7727\n",
            "Epoch 14/20\n",
            "20/20 [==============================] - 0s 3ms/step - loss: 0.4755 - acc: 0.7801 - val_loss: 0.4713 - val_acc: 0.7727\n",
            "Epoch 15/20\n",
            "20/20 [==============================] - 0s 3ms/step - loss: 0.4746 - acc: 0.7818 - val_loss: 0.4708 - val_acc: 0.7727\n",
            "Epoch 16/20\n",
            "20/20 [==============================] - 0s 2ms/step - loss: 0.4751 - acc: 0.7769 - val_loss: 0.4688 - val_acc: 0.7922\n",
            "Epoch 17/20\n",
            "20/20 [==============================] - 0s 3ms/step - loss: 0.4740 - acc: 0.7785 - val_loss: 0.4692 - val_acc: 0.7857\n",
            "Epoch 18/20\n",
            "20/20 [==============================] - 0s 2ms/step - loss: 0.4750 - acc: 0.7769 - val_loss: 0.4675 - val_acc: 0.7857\n",
            "Epoch 19/20\n",
            "20/20 [==============================] - 0s 3ms/step - loss: 0.4740 - acc: 0.7785 - val_loss: 0.4694 - val_acc: 0.7857\n",
            "Epoch 20/20\n",
            "20/20 [==============================] - 0s 2ms/step - loss: 0.4740 - acc: 0.7785 - val_loss: 0.4689 - val_acc: 0.7792\n"
          ],
          "name": "stdout"
        },
        {
          "output_type": "execute_result",
          "data": {
            "text/plain": [
              "<tensorflow.python.keras.callbacks.History at 0x7f87f9f54cd0>"
            ]
          },
          "metadata": {
            "tags": []
          },
          "execution_count": 11
        }
      ]
    },
    {
      "cell_type": "code",
      "metadata": {
        "id": "lAetLSe3ploz"
      },
      "source": [
        ""
      ],
      "execution_count": null,
      "outputs": []
    }
  ]
}
