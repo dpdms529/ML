{
  "nbformat": 4,
  "nbformat_minor": 0,
  "metadata": {
    "colab": {
      "name": "1주차 실습 - 00. 콜랩 소개",
      "provenance": [],
      "collapsed_sections": [],
      "include_colab_link": true
    },
    "kernelspec": {
      "name": "python3",
      "display_name": "Python 3"
    }
  },
  "cells": [
    {
      "cell_type": "markdown",
      "metadata": {
        "id": "view-in-github",
        "colab_type": "text"
      },
      "source": [
        "<a href=\"https://colab.research.google.com/github/dpdms529/ML/blob/main/1%EC%A3%BC%EC%B0%A8_%EC%8B%A4%EC%8A%B5_00_%EC%BD%9C%EB%9E%A9_%EC%86%8C%EA%B0%9C.ipynb\" target=\"_parent\"><img src=\"https://colab.research.google.com/assets/colab-badge.svg\" alt=\"Open In Colab\"/></a>"
      ]
    },
    {
      "cell_type": "markdown",
      "metadata": {
        "id": "rJjuHma_przv"
      },
      "source": [
        "<p><img alt=\"Colaboratory logo\" height=\"45px\" src=\"/img/colab_favicon.ico\" align=\"left\" hspace=\"10px\" vspace=\"0px\"></p>\n",
        "\n",
        "<h1>Colaboratory란?</h1>\n",
        "\n",
        "줄여서 'Colab(콜랩)'이라고도 하는 Colaboratory를 사용하면 브라우저에서 Python을 작성하고 실행할 수 있습니다. Colab은 다음과 같은 이점을 자랑합니다.\n",
        "- 개발 환경 구성이 필요하지 않음\n",
        "- GPU 무료 액세스\n",
        "- 간편한 공유\n",
        "\n",
        "<strong>학생</strong>이든, <strong>데이터 과학자</strong>든, <strong>AI 연구원</strong>이든 Colab으로 업무를 더욱 간편하게 처리할 수 있습니다. <a href=\"https://www.youtube.com/watch?v=inN8seMm7UI\">Colab 소개 영상</a>에서 자세한 내용을 확인하거나 아래에서 시작해 보세요."
      ]
    },
    {
      "cell_type": "markdown",
      "metadata": {
        "id": "Goxssf4RqTpX"
      },
      "source": [
        "## <strong>시작하기</strong>\n",
        "\n",
        "지금 읽고 계신 문서는 정적 웹페이지가 아니라 코드를 작성하고 실행할 수 있는 대화형 환경인 <strong>Colab 메모장</strong>입니다.\n",
        "\n",
        "예를 들어 다음은 값을 계산하여 변수로 저장하고 결과를 출력하는 간단한 Python 스크립트가 포함된 <strong>코드 셀</strong>입니다.\n",
        "\n",
        "셀의 코드를 실행하려면 셀을 클릭하여 선택한 후 코드 왼쪽의 실행 버튼을 누르거나 단축키 <strong>'Command/Ctrl+Enter'</strong>를 사용하세요. 셀을 클릭하면 코드 수정을 바로 시작할 수 있습니다."
      ]
    },
    {
      "cell_type": "code",
      "metadata": {
        "colab": {
          "base_uri": "https://localhost:8080/"
        },
        "id": "1s2xg6TzqSn6",
        "outputId": "f98c1a5d-d771-4042-dd48-e711d7b37125"
      },
      "source": [
        "seconds_in_a_day = 24 * 60 * 60\n",
        "print(seconds_in_a_day)"
      ],
      "execution_count": null,
      "outputs": [
        {
          "output_type": "stream",
          "text": [
            "86400\n"
          ],
          "name": "stdout"
        }
      ]
    },
    {
      "cell_type": "markdown",
      "metadata": {
        "id": "rWfJHia2qfjq"
      },
      "source": [
        "\n",
        "\n",
        "특정 셀에서 정의한 변수를 나중에 다른 셀에서 사용할 수 있습니다."
      ]
    },
    {
      "cell_type": "code",
      "metadata": {
        "colab": {
          "base_uri": "https://localhost:8080/"
        },
        "id": "3C16qW58qYbH",
        "outputId": "ae7939c0-5ba3-436d-edc6-4273c2d0b869"
      },
      "source": [
        "seconds_in_a_week = 7 * seconds_in_a_day\n",
        "print(seconds_in_a_week)"
      ],
      "execution_count": null,
      "outputs": [
        {
          "output_type": "stream",
          "text": [
            "604800\n"
          ],
          "name": "stdout"
        }
      ]
    },
    {
      "cell_type": "markdown",
      "metadata": {
        "id": "HrM9OUrHq2oR"
      },
      "source": [
        "## 패키지 불러오기\n",
        "\n",
        "Colab을 통해 인기 있는 Python 라이브러리를 최대한 활용하여 데이터를 분석하고 시각화할 수 있습니다."
      ]
    },
    {
      "cell_type": "code",
      "metadata": {
        "id": "QzPlzcDnqmBA"
      },
      "source": [
        "import numpy as np\n",
        "from matplotlib import pyplot as plt"
      ],
      "execution_count": null,
      "outputs": []
    },
    {
      "cell_type": "markdown",
      "metadata": {
        "id": "ISmkcSPmq6yL"
      },
      "source": [
        "## 그래프 그리기\n",
        "\n",
        "아래 코드 셀에서는 <strong>Numpy</strong>를 사용하여 임의의 데이터를 생성하고 <strong>매트플롯립</strong>으로 이를 시각화합니다. 셀을 클릭하면 코드 수정을 바로 시작할 수 있습니다."
      ]
    },
    {
      "cell_type": "code",
      "metadata": {
        "colab": {
          "base_uri": "https://localhost:8080/"
        },
        "id": "1gKuaQZrq5Ul",
        "outputId": "333ca820-7330-4daa-f784-c01a305d9984"
      },
      "source": [
        "data = np.random.randint(-100, 100, 50)\n",
        "print(data)"
      ],
      "execution_count": null,
      "outputs": [
        {
          "output_type": "stream",
          "text": [
            "[  2 -57  64 -49  -1  -2  77 -95 -46 -10  37 -66  58  37  60  56  98 -47\n",
            " -25 -95 -61 -58 -39  27  91 -52  92 -76  82 -24   8  -8  35 -50 -21 -69\n",
            "  70  58 -91  69  76  27 -42 -53  42  70  13 -16  89  35]\n"
          ],
          "name": "stdout"
        }
      ]
    },
    {
      "cell_type": "code",
      "metadata": {
        "colab": {
          "base_uri": "https://localhost:8080/",
          "height": 265
        },
        "id": "1ATZtiSdx2Kh",
        "outputId": "a9ddd9cb-34f6-400d-bddb-a20a9f085033"
      },
      "source": [
        "plt.plot(data.cumsum())\n",
        "plt.show()"
      ],
      "execution_count": null,
      "outputs": [
        {
          "output_type": "display_data",
          "data": {
            "image/png": "[encoded data removed]",
            "text/plain": [
              "<Figure size 432x288 with 1 Axes>"
            ]
          },
          "metadata": {
            "tags": [],
            "needs_background": "light"
          }
        }
      ]
    },
    {
      "cell_type": "markdown",
      "metadata": {
        "id": "2oFsZpPlrg20"
      },
      "source": [
        "# 셀 (Cells)\n",
        "\n",
        "Colab은 셀 단위로 이루어져 있습니다. 각각의 셀은 코드 또는 텍스트를 포함하고 있지요. 각 셀을 클릭하여 선택할 수 있습니다.\n",
        "\n",
        "셀을 새로 생성하려면 위쪽 메뉴에서 [+ 코드] 또는 [+ 텍스트] 버튼을 누릅니다."
      ]
    },
    {
      "cell_type": "code",
      "metadata": {
        "colab": {
          "base_uri": "https://localhost:8080/"
        },
        "id": "tk0nu3-PysFX",
        "outputId": "84f350ce-c620-46ce-b63b-ad4994ccc14e"
      },
      "source": [
        "print('hello world!')"
      ],
      "execution_count": null,
      "outputs": [
        {
          "output_type": "stream",
          "text": [
            "hello world!\n"
          ],
          "name": "stdout"
        }
      ]
    },
    {
      "cell_type": "markdown",
      "metadata": {
        "id": "LLHuIR0Uyv4o"
      },
      "source": [
        "# **텍스트** *이탤릭체 텍스트*\n",
        "\n",
        "헬로 월드"
      ]
    },
    {
      "cell_type": "markdown",
      "metadata": {
        "id": "ZIQp91cosACX"
      },
      "source": [
        "## 코드 셀\n",
        "\n",
        "아래 코드 셀에는 파이썬 코드를 입력할 수 있습니다. 코드 셀은 클릭해서 선택한 뒤 실행할 수 있습니다. 실행하는 방법은 다음과 같아요:\n",
        "- 플레이 아이콘 클릭\n",
        "- Cmd/Ctrl + Enter 현재 셀 실행\n",
        "- Shift + Enter 현재 셀 실행 후 다음 셀로 이동 (다음 셀이 없으면 새로 생성)\n",
        "- Alt + Enter 현재 셀 실행 후 다음 셀 생성하여 이동\n"
      ]
    },
    {
      "cell_type": "code",
      "metadata": {
        "colab": {
          "base_uri": "https://localhost:8080/"
        },
        "id": "eNuPgRbqrFd_",
        "outputId": "fc3f980e-0c91-45fd-9fd7-97e15a65b9bc"
      },
      "source": [
        "a = 10\n",
        "print(a)"
      ],
      "execution_count": null,
      "outputs": [
        {
          "output_type": "stream",
          "text": [
            "10\n"
          ],
          "name": "stdout"
        }
      ]
    },
    {
      "cell_type": "markdown",
      "metadata": {
        "id": "s-jiCp8ms65C"
      },
      "source": [
        "## 텍스트 셀\n",
        "\n",
        "이것은 텍스트 셀입니다. 이 셀을 더블클릭하여 수정할 수 있어요. 텍스트 셀은 마크다운(Markdown) 문법을 사용합니다. 마크다운 문법은 [여기](https://gist.github.com/ihoneymon/652be052a0727ad59601)를 참조하세요."
      ]
    },
    {
      "cell_type": "markdown",
      "metadata": {
        "id": "Phvbecf-tVor"
      },
      "source": [
        "## 셀 이동하기\n",
        "\n",
        "셀의 위치를 이동하려면 각 셀의 오른쪽 위에 있는 툴바에서 [위로 셀 이동] 또는 [아래로 셀 이동] 화살표 버튼을 클릭합니다. 또는 단축키를 사용합니다:\n",
        "\n",
        "- 위로 셀 이동: Cmd/Ctrl + M K\n",
        "- 아래로 셀 이동: Cmd/Ctrl + M J"
      ]
    },
    {
      "cell_type": "markdown",
      "metadata": {
        "id": "mSlrA4W6uLqY"
      },
      "source": [
        "# 파일 브라우저\n",
        "\n",
        "왼쪽 사이드 메뉴의 폴더 아이콘을 눌러 현재 작업중인 폴더의 구조를 확인할 수 있습니다."
      ]
    },
    {
      "cell_type": "markdown",
      "metadata": {
        "id": "eGbU3OSztu8t"
      },
      "source": [
        "# 시스템 명령어 사용\n",
        "\n",
        "Jupyter notebook과 마찬가지로 리눅스 명령어를 사용하려면 다음과 같이 !(느낌표)를 붙여서 사용합니다."
      ]
    },
    {
      "cell_type": "code",
      "metadata": {
        "colab": {
          "base_uri": "https://localhost:8080/"
        },
        "id": "-Pc7aX_EsO5u",
        "outputId": "d428769e-72d3-483d-d0e5-9540ba0e3184"
      },
      "source": [
        "!ls"
      ],
      "execution_count": null,
      "outputs": [
        {
          "output_type": "stream",
          "text": [
            "sample_data\n"
          ],
          "name": "stdout"
        }
      ]
    },
    {
      "cell_type": "markdown",
      "metadata": {
        "id": "BthzQ8nnug_S"
      },
      "source": [
        "# 파이썬 패키지\n",
        "\n",
        "Colab에는 기본적으로 자주 사용하는 패키지가 기본으로 설치되어 있습니다."
      ]
    },
    {
      "cell_type": "code",
      "metadata": {
        "colab": {
          "base_uri": "https://localhost:8080/"
        },
        "id": "dsE2wz-YsMh4",
        "outputId": "ec1b0fb1-3d3c-402d-92e4-daae910f4477"
      },
      "source": [
        "!pip list"
      ],
      "execution_count": null,
      "outputs": [
        {
          "output_type": "stream",
          "text": [
            "Package                       Version            \n",
            "----------------------------- -------------------\n",
            "absl-py                       0.12.0             \n",
            "alabaster                     0.7.12             \n",
            "albumentations                0.1.12             \n",
            "altair                        4.1.0              \n",
            "appdirs                       1.4.4              \n",
            "argon2-cffi                   20.1.0             \n",
            "arviz                         0.11.2             \n",
            "astor                         0.8.1              \n",
            "astropy                       4.2.1              \n",
            "astunparse                    1.6.3              \n",
            "async-generator               1.10               \n",
            "atari-py                      0.2.9              \n",
            "atomicwrites                  1.4.0              \n",
            "attrs                         21.2.0             \n",
            "audioread                     2.1.9              \n",
            "autograd                      1.3                \n",
            "Babel                         2.9.1              \n",
            "backcall                      0.2.0              \n",
            "beautifulsoup4                4.6.3              \n",
            "bleach                        3.3.0              \n",
            "blis                          0.4.1              \n",
            "bokeh                         2.3.2              \n",
            "Bottleneck                    1.3.2              \n",
            "branca                        0.4.2              \n",
            "bs4                           0.0.1              \n",
            "CacheControl                  0.12.6             \n",
            "cached-property               1.5.2              \n",
            "cachetools                    4.2.2              \n",
            "catalogue                     1.0.0              \n",
            "certifi                       2021.5.30          \n",
            "cffi                          1.14.5             \n",
            "cftime                        1.5.0              \n",
            "chardet                       3.0.4              \n",
            "click                         7.1.2              \n",
            "cloudpickle                   1.3.0              \n",
            "cmake                         3.12.0             \n",
            "cmdstanpy                     0.9.5              \n",
            "colorcet                      2.0.6              \n",
            "colorlover                    0.3.0              \n",
            "community                     1.0.0b1            \n",
            "contextlib2                   0.5.5              \n",
            "convertdate                   2.3.2              \n",
            "coverage                      3.7.1              \n",
            "coveralls                     0.5                \n",
            "crcmod                        1.7                \n",
            "cufflinks                     0.17.3             \n",
            "cvxopt                        1.2.6              \n",
            "cvxpy                         1.0.31             \n",
            "cycler                        0.10.0             \n",
            "cymem                         2.0.5              \n",
            "Cython                        0.29.23            \n",
            "daft                          0.0.4              \n",
            "dask                          2.12.0             \n",
            "datascience                   0.10.6             \n",
            "debugpy                       1.0.0              \n",
            "decorator                     4.4.2              \n",
            "defusedxml                    0.7.1              \n",
            "descartes                     1.1.0              \n",
            "dill                          0.3.4              \n",
            "distributed                   1.25.3             \n",
            "dlib                          19.18.0            \n",
            "dm-tree                       0.1.6              \n",
            "docopt                        0.6.2              \n",
            "docutils                      0.17.1             \n",
            "dopamine-rl                   1.0.5              \n",
            "earthengine-api               0.1.269            \n",
            "easydict                      1.9                \n",
            "ecos                          2.0.7.post1        \n",
            "editdistance                  0.5.3              \n",
            "en-core-web-sm                2.2.5              \n",
            "entrypoints                   0.3                \n",
            "ephem                         4.0.0.2            \n",
            "et-xmlfile                    1.1.0              \n",
            "fa2                           0.3.5              \n",
            "fastai                        1.0.61             \n",
            "fastdtw                       0.3.4              \n",
            "fastprogress                  1.0.0              \n",
            "fastrlock                     0.6                \n",
            "fbprophet                     0.7.1              \n",
            "feather-format                0.4.1              \n",
            "filelock                      3.0.12             \n",
            "firebase-admin                4.4.0              \n",
            "fix-yahoo-finance             0.0.22             \n",
            "Flask                         1.1.4              \n",
            "flatbuffers                   1.12               \n",
            "folium                        0.8.3              \n",
            "future                        0.16.0             \n",
            "gast                          0.4.0              \n",
            "GDAL                          2.2.2              \n",
            "gdown                         3.6.4              \n",
            "gensim                        3.6.0              \n",
            "geographiclib                 1.50               \n",
            "geopy                         1.17.0             \n",
            "gin-config                    0.4.0              \n",
            "glob2                         0.7                \n",
            "google                        2.0.3              \n",
            "google-api-core               1.26.3             \n",
            "google-api-python-client      1.12.8             \n",
            "google-auth                   1.31.0             \n",
            "google-auth-httplib2          0.0.4              \n",
            "google-auth-oauthlib          0.4.4              \n",
            "google-cloud-bigquery         1.21.0             \n",
            "google-cloud-bigquery-storage 1.1.0              \n",
            "google-cloud-core             1.0.3              \n",
            "google-cloud-datastore        1.8.0              \n",
            "google-cloud-firestore        1.7.0              \n",
            "google-cloud-language         1.2.0              \n",
            "google-cloud-storage          1.18.1             \n",
            "google-cloud-translate        1.5.0              \n",
            "google-colab                  1.0.0              \n",
            "google-pasta                  0.2.0              \n",
            "google-resumable-media        0.4.1              \n",
            "googleapis-common-protos      1.53.0             \n",
            "googledrivedownloader         0.4                \n",
            "graphviz                      0.10.1             \n",
            "greenlet                      1.1.0              \n",
            "grpcio                        1.34.1             \n",
            "gspread                       3.0.1              \n",
            "gspread-dataframe             3.0.8              \n",
            "gym                           0.17.3             \n",
            "h5py                          3.1.0              \n",
            "HeapDict                      1.0.1              \n",
            "hijri-converter               2.1.2              \n",
            "holidays                      0.10.5.2           \n",
            "holoviews                     1.14.4             \n",
            "html5lib                      1.0.1              \n",
            "httpimport                    0.5.18             \n",
            "httplib2                      0.17.4             \n",
            "httplib2shim                  0.0.3              \n",
            "humanize                      0.5.1              \n",
            "hyperopt                      0.1.2              \n",
            "ideep4py                      2.0.0.post3        \n",
            "idna                          2.10               \n",
            "imageio                       2.4.1              \n",
            "imagesize                     1.2.0              \n",
            "imbalanced-learn              0.4.3              \n",
            "imblearn                      0.0                \n",
            "imgaug                        0.2.9              \n",
            "importlib-metadata            4.5.0              \n",
            "importlib-resources           5.1.4              \n",
            "imutils                       0.5.4              \n",
            "inflect                       2.1.0              \n",
            "iniconfig                     1.1.1              \n",
            "install                       1.3.4              \n",
            "intel-openmp                  2021.2.0           \n",
            "intervaltree                  2.1.0              \n",
            "ipykernel                     4.10.1             \n",
            "ipython                       5.5.0              \n",
            "ipython-genutils              0.2.0              \n",
            "ipython-sql                   0.3.9              \n",
            "ipywidgets                    7.6.3              \n",
            "itsdangerous                  1.1.0              \n",
            "jax                           0.2.13             \n",
            "jaxlib                        0.1.66+cuda110     \n",
            "jdcal                         1.4.1              \n",
            "jedi                          0.18.0             \n",
            "jieba                         0.42.1             \n",
            "Jinja2                        2.11.3             \n",
            "joblib                        1.0.1              \n",
            "jpeg4py                       0.1.4              \n",
            "jsonschema                    2.6.0              \n",
            "jupyter                       1.0.0              \n",
            "jupyter-client                5.3.5              \n",
            "jupyter-console               5.2.0              \n",
            "jupyter-core                  4.7.1              \n",
            "jupyterlab-pygments           0.1.2              \n",
            "jupyterlab-widgets            1.0.0              \n",
            "kaggle                        1.5.12             \n",
            "kapre                         0.3.5              \n",
            "Keras                         2.4.3              \n",
            "keras-nightly                 2.5.0.dev2021032900\n",
            "Keras-Preprocessing           1.1.2              \n",
            "keras-vis                     0.4.1              \n",
            "kiwisolver                    1.3.1              \n",
            "korean-lunar-calendar         0.2.1              \n",
            "librosa                       0.8.1              \n",
            "lightgbm                      2.2.3              \n",
            "llvmlite                      0.34.0             \n",
            "lmdb                          0.99               \n",
            "LunarCalendar                 0.0.9              \n",
            "lxml                          4.2.6              \n",
            "Markdown                      3.3.4              \n",
            "MarkupSafe                    2.0.1              \n",
            "matplotlib                    3.2.2              \n",
            "matplotlib-inline             0.1.2              \n",
            "matplotlib-venn               0.11.6             \n",
            "missingno                     0.4.2              \n",
            "mistune                       0.8.4              \n",
            "mizani                        0.6.0              \n",
            "mkl                           2019.0             \n",
            "mlxtend                       0.14.0             \n",
            "more-itertools                8.8.0              \n",
            "moviepy                       0.2.3.5            \n",
            "mpmath                        1.2.1              \n",
            "msgpack                       1.0.2              \n",
            "multiprocess                  0.70.12.2          \n",
            "multitasking                  0.0.9              \n",
            "murmurhash                    1.0.5              \n",
            "music21                       5.5.0              \n",
            "natsort                       5.5.0              \n",
            "nbclient                      0.5.3              \n",
            "nbconvert                     5.6.1              \n",
            "nbformat                      5.1.3              \n",
            "nest-asyncio                  1.5.1              \n",
            "netCDF4                       1.5.6              \n",
            "networkx                      2.5.1              \n",
            "nibabel                       3.0.2              \n",
            "nltk                          3.2.5              \n",
            "notebook                      5.3.1              \n",
            "numba                         0.51.2             \n",
            "numexpr                       2.7.3              \n",
            "numpy                         1.19.5             \n",
            "nvidia-ml-py3                 7.352.0            \n",
            "oauth2client                  4.1.3              \n",
            "oauthlib                      3.1.1              \n",
            "okgrade                       0.4.3              \n",
            "opencv-contrib-python         4.1.2.30           \n",
            "opencv-python                 4.1.2.30           \n",
            "openpyxl                      2.5.9              \n",
            "opt-einsum                    3.3.0              \n",
            "osqp                          0.6.2.post0        \n",
            "packaging                     20.9               \n",
            "palettable                    3.3.0              \n",
            "pandas                        1.1.5              \n",
            "pandas-datareader             0.9.0              \n",
            "pandas-gbq                    0.13.3             \n",
            "pandas-profiling              1.4.1              \n",
            "pandocfilters                 1.4.3              \n",
            "panel                         0.11.3             \n",
            "param                         1.10.1             \n",
            "parso                         0.8.2              \n",
            "pathlib                       1.0.1              \n",
            "patsy                         0.5.1              \n",
            "pexpect                       4.8.0              \n",
            "pickleshare                   0.7.5              \n",
            "Pillow                        7.1.2              \n",
            "pip                           19.3.1             \n",
            "pip-tools                     4.5.1              \n",
            "plac                          1.1.3              \n",
            "plotly                        4.4.1              \n",
            "plotnine                      0.6.0              \n",
            "pluggy                        0.7.1              \n",
            "pooch                         1.4.0              \n",
            "portpicker                    1.3.9              \n",
            "prefetch-generator            1.0.1              \n",
            "preshed                       3.0.5              \n",
            "prettytable                   2.1.0              \n",
            "progressbar2                  3.38.0             \n",
            "prometheus-client             0.11.0             \n",
            "promise                       2.3                \n",
            "prompt-toolkit                1.0.18             \n",
            "protobuf                      3.12.4             \n",
            "psutil                        5.4.8              \n",
            "psycopg2                      2.7.6.1            \n",
            "ptyprocess                    0.7.0              \n",
            "py                            1.10.0             \n",
            "pyarrow                       3.0.0              \n",
            "pyasn1                        0.4.8              \n",
            "pyasn1-modules                0.2.8              \n",
            "pycocotools                   2.0.2              \n",
            "pycparser                     2.20               \n",
            "pyct                          0.4.8              \n",
            "pydata-google-auth            1.2.0              \n",
            "pydot                         1.3.0              \n",
            "pydot-ng                      2.0.0              \n",
            "pydotplus                     2.0.2              \n",
            "PyDrive                       1.3.1              \n",
            "pyemd                         0.5.1              \n",
            "pyerfa                        2.0.0              \n",
            "pyglet                        1.5.0              \n",
            "Pygments                      2.6.1              \n",
            "pygobject                     3.26.1             \n",
            "pymc3                         3.11.2             \n",
            "PyMeeus                       0.5.11             \n",
            "pymongo                       3.11.4             \n",
            "pymystem3                     0.2.0              \n",
            "PyOpenGL                      3.1.5              \n",
            "pyparsing                     2.4.7              \n",
            "pyrsistent                    0.17.3             \n",
            "pysndfile                     1.3.8              \n",
            "PySocks                       1.7.1              \n",
            "pystan                        2.19.1.1           \n",
            "pytest                        3.6.4              \n",
            "python-apt                    0.0.0              \n",
            "python-chess                  0.23.11            \n",
            "python-dateutil               2.8.1              \n",
            "python-louvain                0.15               \n",
            "python-slugify                5.0.2              \n",
            "python-utils                  2.5.6              \n",
            "pytz                          2018.9             \n",
            "pyviz-comms                   2.0.2              \n",
            "PyWavelets                    1.1.1              \n",
            "PyYAML                        3.13               \n",
            "pyzmq                         22.1.0             \n",
            "qdldl                         0.1.5.post0        \n",
            "qtconsole                     5.1.0              \n",
            "QtPy                          1.9.0              \n",
            "regex                         2019.12.20         \n",
            "requests                      2.23.0             \n",
            "requests-oauthlib             1.3.0              \n",
            "resampy                       0.2.2              \n",
            "retrying                      1.3.3              \n",
            "rpy2                          3.4.5              \n",
            "rsa                           4.7.2              \n",
            "scikit-image                  0.16.2             \n",
            "scikit-learn                  0.22.2.post1       \n",
            "scipy                         1.4.1              \n",
            "screen-resolution-extra       0.0.0              \n",
            "scs                           2.1.4              \n",
            "seaborn                       0.11.1             \n",
            "semver                        2.13.0             \n",
            "Send2Trash                    1.5.0              \n",
            "setuptools                    57.0.0             \n",
            "setuptools-git                1.2                \n",
            "Shapely                       1.7.1              \n",
            "simplegeneric                 0.8.1              \n",
            "six                           1.15.0             \n",
            "sklearn                       0.0                \n",
            "sklearn-pandas                1.8.0              \n",
            "smart-open                    5.1.0              \n",
            "snowballstemmer               2.1.0              \n",
            "sortedcontainers              2.4.0              \n",
            "SoundFile                     0.10.3.post1       \n",
            "spacy                         2.2.4              \n",
            "Sphinx                        1.8.5              \n",
            "sphinxcontrib-serializinghtml 1.1.5              \n",
            "sphinxcontrib-websupport      1.2.4              \n",
            "SQLAlchemy                    1.4.18             \n",
            "sqlparse                      0.4.1              \n",
            "srsly                         1.0.5              \n",
            "statsmodels                   0.10.2             \n",
            "sympy                         1.7.1              \n",
            "tables                        3.4.4              \n",
            "tabulate                      0.8.9              \n",
            "tblib                         1.7.0              \n",
            "tensorboard                   2.5.0              \n",
            "tensorboard-data-server       0.6.1              \n",
            "tensorboard-plugin-wit        1.8.0              \n",
            "tensorflow                    2.5.0              \n",
            "tensorflow-datasets           4.0.1              \n",
            "tensorflow-estimator          2.5.0              \n",
            "tensorflow-gcs-config         2.5.0              \n",
            "tensorflow-hub                0.12.0             \n",
            "tensorflow-metadata           1.0.0              \n",
            "tensorflow-probability        0.12.1             \n",
            "termcolor                     1.1.0              \n",
            "terminado                     0.10.1             \n",
            "testpath                      0.5.0              \n",
            "text-unidecode                1.3                \n",
            "textblob                      0.15.3             \n",
            "Theano-PyMC                   1.1.2              \n",
            "thinc                         7.4.0              \n",
            "tifffile                      2021.6.14          \n",
            "toml                          0.10.2             \n",
            "toolz                         0.11.1             \n",
            "torch                         1.9.0+cu102        \n",
            "torchsummary                  1.5.1              \n",
            "torchtext                     0.10.0             \n",
            "torchvision                   0.10.0+cu102       \n",
            "tornado                       5.1.1              \n",
            "tqdm                          4.41.1             \n",
            "traitlets                     5.0.5              \n",
            "tweepy                        3.10.0             \n",
            "typeguard                     2.7.1              \n",
            "typing-extensions             3.7.4.3            \n",
            "tzlocal                       1.5.1              \n",
            "uritemplate                   3.0.1              \n",
            "urllib3                       1.24.3             \n",
            "vega-datasets                 0.9.0              \n",
            "wasabi                        0.8.2              \n",
            "wcwidth                       0.2.5              \n",
            "webencodings                  0.5.1              \n",
            "Werkzeug                      1.0.1              \n",
            "wheel                         0.36.2             \n",
            "widgetsnbextension            3.5.1              \n",
            "wordcloud                     1.5.0              \n",
            "wrapt                         1.12.1             \n",
            "xarray                        0.18.2             \n",
            "xgboost                       0.90               \n",
            "xkit                          0.0.0              \n",
            "xlrd                          1.1.0              \n",
            "xlwt                          1.3.0              \n",
            "yellowbrick                   0.9.1              \n",
            "zict                          2.0.0              \n",
            "zipp                          3.4.1              \n"
          ],
          "name": "stdout"
        }
      ]
    },
    {
      "cell_type": "markdown",
      "metadata": {
        "id": "duZJ-uX1vSp2"
      },
      "source": [
        "## 새로운 패키지 설치하기\n",
        "\n",
        "`!pip install [패키지이름]` 명령어로 필요한 패키지를 새로 설치할 수 있습니다."
      ]
    },
    {
      "cell_type": "code",
      "metadata": {
        "colab": {
          "base_uri": "https://localhost:8080/"
        },
        "id": "bl_8ezjqumYT",
        "outputId": "be85e442-223b-4214-c562-b7b0ed6206f9"
      },
      "source": [
        "!pip install pandas_datareader"
      ],
      "execution_count": null,
      "outputs": [
        {
          "output_type": "stream",
          "text": [
            "Requirement already satisfied: pandas_datareader in /usr/local/lib/python3.7/dist-packages (0.9.0)\n",
            "Requirement already satisfied: requests>=2.19.0 in /usr/local/lib/python3.7/dist-packages (from pandas_datareader) (2.23.0)\n",
            "Requirement already satisfied: pandas>=0.23 in /usr/local/lib/python3.7/dist-packages (from pandas_datareader) (1.1.5)\n",
            "Requirement already satisfied: lxml in /usr/local/lib/python3.7/dist-packages (from pandas_datareader) (4.2.6)\n",
            "Requirement already satisfied: certifi>=2017.4.17 in /usr/local/lib/python3.7/dist-packages (from requests>=2.19.0->pandas_datareader) (2021.5.30)\n",
            "Requirement already satisfied: idna<3,>=2.5 in /usr/local/lib/python3.7/dist-packages (from requests>=2.19.0->pandas_datareader) (2.10)\n",
            "Requirement already satisfied: urllib3!=1.25.0,!=1.25.1,<1.26,>=1.21.1 in /usr/local/lib/python3.7/dist-packages (from requests>=2.19.0->pandas_datareader) (1.24.3)\n",
            "Requirement already satisfied: chardet<4,>=3.0.2 in /usr/local/lib/python3.7/dist-packages (from requests>=2.19.0->pandas_datareader) (3.0.4)\n",
            "Requirement already satisfied: python-dateutil>=2.7.3 in /usr/local/lib/python3.7/dist-packages (from pandas>=0.23->pandas_datareader) (2.8.1)\n",
            "Requirement already satisfied: pytz>=2017.2 in /usr/local/lib/python3.7/dist-packages (from pandas>=0.23->pandas_datareader) (2018.9)\n",
            "Requirement already satisfied: numpy>=1.15.4 in /usr/local/lib/python3.7/dist-packages (from pandas>=0.23->pandas_datareader) (1.19.5)\n",
            "Requirement already satisfied: six>=1.5 in /usr/local/lib/python3.7/dist-packages (from python-dateutil>=2.7.3->pandas>=0.23->pandas_datareader) (1.15.0)\n"
          ],
          "name": "stdout"
        }
      ]
    },
    {
      "cell_type": "markdown",
      "metadata": {
        "id": "NiG8y1c2yS76"
      },
      "source": [
        "# 데이터프레임 출력\n",
        "\n",
        "방금 설치한 `pandas_datareader`로 삼성전자 1-3분기 주식 데이터를 받아서 pandas 데이터프레임(표)과 그래프로 출력해봅시다!\n",
        "\n",
        "야후 삼성전자 주식 데이터: https://finance.yahoo.com/quote/005930.KS"
      ]
    },
    {
      "cell_type": "code",
      "metadata": {
        "colab": {
          "base_uri": "https://localhost:8080/",
          "height": 408
        },
        "id": "zjQcfFlgyFc0",
        "outputId": "e6d9b5f6-bc26-4363-fb94-7e893ec11410"
      },
      "source": [
        "import pandas_datareader as pdr\n",
        "\n",
        "df = pdr.get_data_yahoo('005930.KS', '2020-01-01', '2020-09-30')\n",
        "\n",
        "print('row count:', len(df))\n",
        "df.tail(10)"
      ],
      "execution_count": null,
      "outputs": [
        {
          "output_type": "stream",
          "text": [
            "row count: 187\n"
          ],
          "name": "stdout"
        },
        {
          "output_type": "execute_result",
          "data": {
            "text/html": [
              "<div>\n",
              "<style scoped>\n",
              "    .dataframe tbody tr th:only-of-type {\n",
              "        vertical-align: middle;\n",
              "    }\n",
              "\n",
              "    .dataframe tbody tr th {\n",
              "        vertical-align: top;\n",
              "    }\n",
              "\n",
              "    .dataframe thead th {\n",
              "        text-align: right;\n",
              "    }\n",
              "</style>\n",
              "<table border=\"1\" class=\"dataframe\">\n",
              "  <thead>\n",
              "    <tr style=\"text-align: right;\">\n",
              "      <th></th>\n",
              "      <th>High</th>\n",
              "      <th>Low</th>\n",
              "      <th>Open</th>\n",
              "      <th>Close</th>\n",
              "      <th>Volume</th>\n",
              "      <th>Adj Close</th>\n",
              "    </tr>\n",
              "    <tr>\n",
              "      <th>Date</th>\n",
              "      <th></th>\n",
              "      <th></th>\n",
              "      <th></th>\n",
              "      <th></th>\n",
              "      <th></th>\n",
              "      <th></th>\n",
              "    </tr>\n",
              "  </thead>\n",
              "  <tbody>\n",
              "    <tr>\n",
              "      <th>2020-09-16</th>\n",
              "      <td>61300.0</td>\n",
              "      <td>60600.0</td>\n",
              "      <td>61100.0</td>\n",
              "      <td>61000.0</td>\n",
              "      <td>17041444.0</td>\n",
              "      <td>58877.082031</td>\n",
              "    </tr>\n",
              "    <tr>\n",
              "      <th>2020-09-17</th>\n",
              "      <td>60800.0</td>\n",
              "      <td>59300.0</td>\n",
              "      <td>60700.0</td>\n",
              "      <td>59500.0</td>\n",
              "      <td>25108356.0</td>\n",
              "      <td>57429.285156</td>\n",
              "    </tr>\n",
              "    <tr>\n",
              "      <th>2020-09-18</th>\n",
              "      <td>59900.0</td>\n",
              "      <td>59100.0</td>\n",
              "      <td>59800.0</td>\n",
              "      <td>59300.0</td>\n",
              "      <td>18884571.0</td>\n",
              "      <td>57236.246094</td>\n",
              "    </tr>\n",
              "    <tr>\n",
              "      <th>2020-09-21</th>\n",
              "      <td>60000.0</td>\n",
              "      <td>59000.0</td>\n",
              "      <td>59100.0</td>\n",
              "      <td>59200.0</td>\n",
              "      <td>15140387.0</td>\n",
              "      <td>57139.726562</td>\n",
              "    </tr>\n",
              "    <tr>\n",
              "      <th>2020-09-22</th>\n",
              "      <td>59700.0</td>\n",
              "      <td>57800.0</td>\n",
              "      <td>59100.0</td>\n",
              "      <td>58200.0</td>\n",
              "      <td>20830381.0</td>\n",
              "      <td>56174.531250</td>\n",
              "    </tr>\n",
              "    <tr>\n",
              "      <th>2020-09-23</th>\n",
              "      <td>58800.0</td>\n",
              "      <td>57400.0</td>\n",
              "      <td>58400.0</td>\n",
              "      <td>58600.0</td>\n",
              "      <td>20111398.0</td>\n",
              "      <td>56560.605469</td>\n",
              "    </tr>\n",
              "    <tr>\n",
              "      <th>2020-09-24</th>\n",
              "      <td>58600.0</td>\n",
              "      <td>57600.0</td>\n",
              "      <td>57700.0</td>\n",
              "      <td>57800.0</td>\n",
              "      <td>17564020.0</td>\n",
              "      <td>55788.449219</td>\n",
              "    </tr>\n",
              "    <tr>\n",
              "      <th>2020-09-25</th>\n",
              "      <td>58200.0</td>\n",
              "      <td>57700.0</td>\n",
              "      <td>57700.0</td>\n",
              "      <td>57900.0</td>\n",
              "      <td>11444683.0</td>\n",
              "      <td>55884.968750</td>\n",
              "    </tr>\n",
              "    <tr>\n",
              "      <th>2020-09-28</th>\n",
              "      <td>58800.0</td>\n",
              "      <td>57900.0</td>\n",
              "      <td>58300.0</td>\n",
              "      <td>58200.0</td>\n",
              "      <td>12614080.0</td>\n",
              "      <td>56520.093750</td>\n",
              "    </tr>\n",
              "    <tr>\n",
              "      <th>2020-09-29</th>\n",
              "      <td>59000.0</td>\n",
              "      <td>58200.0</td>\n",
              "      <td>58300.0</td>\n",
              "      <td>58200.0</td>\n",
              "      <td>15503563.0</td>\n",
              "      <td>56520.093750</td>\n",
              "    </tr>\n",
              "  </tbody>\n",
              "</table>\n",
              "</div>"
            ],
            "text/plain": [
              "               High      Low     Open    Close      Volume     Adj Close\n",
              "Date                                                                    \n",
              "2020-09-16  61300.0  60600.0  61100.0  61000.0  17041444.0  58877.082031\n",
              "2020-09-17  60800.0  59300.0  60700.0  59500.0  25108356.0  57429.285156\n",
              "2020-09-18  59900.0  59100.0  59800.0  59300.0  18884571.0  57236.246094\n",
              "2020-09-21  60000.0  59000.0  59100.0  59200.0  15140387.0  57139.726562\n",
              "2020-09-22  59700.0  57800.0  59100.0  58200.0  20830381.0  56174.531250\n",
              "2020-09-23  58800.0  57400.0  58400.0  58600.0  20111398.0  56560.605469\n",
              "2020-09-24  58600.0  57600.0  57700.0  57800.0  17564020.0  55788.449219\n",
              "2020-09-25  58200.0  57700.0  57700.0  57900.0  11444683.0  55884.968750\n",
              "2020-09-28  58800.0  57900.0  58300.0  58200.0  12614080.0  56520.093750\n",
              "2020-09-29  59000.0  58200.0  58300.0  58200.0  15503563.0  56520.093750"
            ]
          },
          "metadata": {
            "tags": []
          },
          "execution_count": 11
        }
      ]
    },
    {
      "cell_type": "code",
      "metadata": {
        "colab": {
          "base_uri": "https://localhost:8080/",
          "height": 296
        },
        "id": "uvN2Pq4nyJYN",
        "outputId": "3bbb379b-e769-470e-8c30-9d899fd6e0e7"
      },
      "source": [
        "df['Adj Close'].plot()"
      ],
      "execution_count": null,
      "outputs": [
        {
          "output_type": "execute_result",
          "data": {
            "text/plain": [
              "<matplotlib.axes._subplots.AxesSubplot at 0x7f9803c77250>"
            ]
          },
          "metadata": {
            "tags": []
          },
          "execution_count": 12
        },
        {
          "output_type": "display_data",
          "data": {
            "image/png": "[encoded data removed]",
            "text/plain": [
              "<Figure size 432x288 with 1 Axes>"
            ]
          },
          "metadata": {
            "tags": [],
            "needs_background": "light"
          }
        }
      ]
    },
    {
      "cell_type": "markdown",
      "metadata": {
        "id": "LEOgL4I3wsXM"
      },
      "source": [
        "# 새로운 Colab 문서 만들기\n",
        "\n",
        "구글 드라이브에서 `새로 만들기 - 더보기 - Google Colaboratory` 를 클릭합니다."
      ]
    },
    {
      "cell_type": "markdown",
      "metadata": {
        "id": "XUGR88Oamwqh"
      },
      "source": [
        "# Colab 문서 런타임 초기화\n",
        "\n",
        "1. 런타임 - 런타임 다시 시작: 변수 및 함수 등의 코드 요소만 메모리에서 지우고 초기 상태로 다시 시작합니다. (로컬 저장소의 파일은 지워지지 않고 그대로 남습니다)\n",
        "2. 런타임 - 런타임 초기화: 로컬 저장소와 모든 변수 및 함수를 메모리에서 삭제하고 완전한 초기 상태로 다시 시작합니다."
      ]
    },
    {
      "cell_type": "code",
      "metadata": {
        "id": "ye43nVWhvcSk"
      },
      "source": [
        ""
      ],
      "execution_count": null,
      "outputs": []
    }
  ]
}