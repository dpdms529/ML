{
  "nbformat": 4,
  "nbformat_minor": 0,
  "metadata": {
    "colab": {
      "name": "1주차 실습 - 02. 캐글 선형회귀 실습",
      "provenance": [],
      "collapsed_sections": [],
      "include_colab_link": true
    },
    "kernelspec": {
      "name": "python3",
      "display_name": "Python 3"
    }
  },
  "cells": [
    {
      "cell_type": "markdown",
      "metadata": {
        "id": "view-in-github",
        "colab_type": "text"
      },
      "source": [
        "<a href=\"https://colab.research.google.com/github/dpdms529/ML/blob/main/1%EC%A3%BC%EC%B0%A8_%EC%8B%A4%EC%8A%B5_02_%EC%BA%90%EA%B8%80_%EC%84%A0%ED%98%95%ED%9A%8C%EA%B7%80_%EC%8B%A4%EC%8A%B5.ipynb\" target=\"_parent\"><img src=\"https://colab.research.google.com/assets/colab-badge.svg\" alt=\"Open In Colab\"/></a>"
      ]
    },
    {
      "cell_type": "markdown",
      "metadata": {
        "id": "fJgk2C1x9D2a"
      },
      "source": [
        "# Kaggle 캐글\n",
        "\n",
        "https://kaggle.com\n",
        "\n",
        "캐글은 머신러닝 엔지니어가 레벨업 할 수 있는 던전이자, 사냥터입니다. 수많은 공개된 데이터셋과 각 데이터셋 별로 사람들이 분석한 결과들을 모아놓은 플랫폼이죠.\n",
        "\n",
        "기업 및 단체에서 Prize를 걸고 데이터와 해결 과제를 등록하면, 데이터 사이언티스트들이 이를 해결하기 위해 모델을 개발하고 경쟁하기도 하는 플랫폼입니다."
      ]
    },
    {
      "cell_type": "markdown",
      "metadata": {
        "id": "ORmI7HI59t1q"
      },
      "source": [
        "## Colab에서 Kaggle 데이터셋 다운로드 방법\n",
        "\n",
        "1. [Kaggle](https://www.kaggle.com) 회원가입\n",
        "2. Account(계정) 페이지 진입 (https://www.kaggle.com/[사옹자이름]/account)\n",
        "3. API - Create New API Token 클릭하고 kaggle.json 다운로드\n",
        "4. 브라우저에서 json 파일을 열어 username 및 key 복사\n",
        "5. 아래 코드에 자신의 username 및 key를 붙여넣어 환경변수 설정 실행"
      ]
    },
    {
      "cell_type": "code",
      "metadata": {
        "id": "dR2b4ocY-Kul"
      },
      "source": [
        "import os\n",
        "os.environ['KAGGLE_USERNAME'] = '' # username\n",
        "os.environ['KAGGLE_KEY'] = '' # key"
      ],
      "execution_count": null,
      "outputs": []
    },
    {
      "cell_type": "markdown",
      "metadata": {
        "id": "JKquhsXV_X72"
      },
      "source": [
        "## 광고 데이터셋 다운로드\n",
        "\n",
        "1. Kaggle에서 원하는 데이터셋을 검색 (예: https://www.kaggle.com/ashydv/advertising-dataset)\n",
        "2. [Copy API command] 버튼 클릭 (New Notebook 옆에 ... 버튼 클릭)\n",
        "3. 코드 셀에 붙여넣고 실행! (맨 앞에 \"!\" 꼭 붙이는거 잊지 마세요!)\n",
        "\n"
      ]
    },
    {
      "cell_type": "code",
      "metadata": {
        "colab": {
          "base_uri": "https://localhost:8080/"
        },
        "id": "5pr_OtdH4XHS",
        "outputId": "78ef9904-6170-4e83-cec6-9ffff7539bcb"
      },
      "source": [
        "!kaggle datasets download -d ashydv/advertising-dataset"
      ],
      "execution_count": null,
      "outputs": [
        {
          "output_type": "stream",
          "text": [
            "Downloading advertising-dataset.zip to /content\n",
            "\r  0% 0.00/1.83k [00:00<?, ?B/s]\n",
            "\r100% 1.83k/1.83k [00:00<00:00, 1.49MB/s]\n"
          ],
          "name": "stdout"
        }
      ]
    },
    {
      "cell_type": "markdown",
      "metadata": {
        "id": "LRZT7pTeAwun"
      },
      "source": [
        "데이터셋 압축 해제"
      ]
    },
    {
      "cell_type": "code",
      "metadata": {
        "colab": {
          "base_uri": "https://localhost:8080/"
        },
        "id": "NrPmd4LwAf7B",
        "outputId": "e0e5a176-ff80-4718-9c11-48a6a2440be9"
      },
      "source": [
        "!unzip /content/advertising-dataset.zip"
      ],
      "execution_count": null,
      "outputs": [
        {
          "output_type": "stream",
          "text": [
            "Archive:  /content/advertising-dataset.zip\n",
            "  inflating: advertising.csv         \n"
          ],
          "name": "stdout"
        }
      ]
    },
    {
      "cell_type": "markdown",
      "metadata": {
        "id": "NOfVzLpuN69u"
      },
      "source": [
        "##  광고 데이터 예측 (Single-variable linear regression)\n",
        "\n",
        "TV 광고 금액으로 Sales 예측하기"
      ]
    },
    {
      "cell_type": "code",
      "metadata": {
        "id": "ksVdzcqqN0wX"
      },
      "source": [
        "from tensorflow.keras.models import Sequential\n",
        "from tensorflow.keras.layers import Dense\n",
        "from tensorflow.keras.optimizers import Adam, SGD\n",
        "import numpy as np\n",
        "import pandas as pd\n",
        "import matplotlib.pyplot as plt \n",
        "import seaborn as sns\n",
        "from sklearn.model_selection import train_test_split"
      ],
      "execution_count": null,
      "outputs": []
    },
    {
      "cell_type": "markdown",
      "metadata": {
        "id": "Up2hzeoQYP4p"
      },
      "source": [
        "### 데이터셋 로드"
      ]
    },
    {
      "cell_type": "code",
      "metadata": {
        "colab": {
          "base_uri": "https://localhost:8080/",
          "height": 204
        },
        "id": "cEpSXjHLOMSl",
        "outputId": "c4e0c9ac-3cdd-420f-c102-d923471f9db9"
      },
      "source": [
        "df = pd.read_csv('advertising.csv')\n",
        "df.head(5)"
      ],
      "execution_count": null,
      "outputs": [
        {
          "output_type": "execute_result",
          "data": {
            "text/html": [
              "<div>\n",
              "<style scoped>\n",
              "    .dataframe tbody tr th:only-of-type {\n",
              "        vertical-align: middle;\n",
              "    }\n",
              "\n",
              "    .dataframe tbody tr th {\n",
              "        vertical-align: top;\n",
              "    }\n",
              "\n",
              "    .dataframe thead th {\n",
              "        text-align: right;\n",
              "    }\n",
              "</style>\n",
              "<table border=\"1\" class=\"dataframe\">\n",
              "  <thead>\n",
              "    <tr style=\"text-align: right;\">\n",
              "      <th></th>\n",
              "      <th>TV</th>\n",
              "      <th>Radio</th>\n",
              "      <th>Newspaper</th>\n",
              "      <th>Sales</th>\n",
              "    </tr>\n",
              "  </thead>\n",
              "  <tbody>\n",
              "    <tr>\n",
              "      <th>0</th>\n",
              "      <td>230.1</td>\n",
              "      <td>37.8</td>\n",
              "      <td>69.2</td>\n",
              "      <td>22.1</td>\n",
              "    </tr>\n",
              "    <tr>\n",
              "      <th>1</th>\n",
              "      <td>44.5</td>\n",
              "      <td>39.3</td>\n",
              "      <td>45.1</td>\n",
              "      <td>10.4</td>\n",
              "    </tr>\n",
              "    <tr>\n",
              "      <th>2</th>\n",
              "      <td>17.2</td>\n",
              "      <td>45.9</td>\n",
              "      <td>69.3</td>\n",
              "      <td>12.0</td>\n",
              "    </tr>\n",
              "    <tr>\n",
              "      <th>3</th>\n",
              "      <td>151.5</td>\n",
              "      <td>41.3</td>\n",
              "      <td>58.5</td>\n",
              "      <td>16.5</td>\n",
              "    </tr>\n",
              "    <tr>\n",
              "      <th>4</th>\n",
              "      <td>180.8</td>\n",
              "      <td>10.8</td>\n",
              "      <td>58.4</td>\n",
              "      <td>17.9</td>\n",
              "    </tr>\n",
              "  </tbody>\n",
              "</table>\n",
              "</div>"
            ],
            "text/plain": [
              "      TV  Radio  Newspaper  Sales\n",
              "0  230.1   37.8       69.2   22.1\n",
              "1   44.5   39.3       45.1   10.4\n",
              "2   17.2   45.9       69.3   12.0\n",
              "3  151.5   41.3       58.5   16.5\n",
              "4  180.8   10.8       58.4   17.9"
            ]
          },
          "metadata": {
            "tags": []
          },
          "execution_count": 5
        }
      ]
    },
    {
      "cell_type": "markdown",
      "metadata": {
        "id": "pYgVoNAhYSTz"
      },
      "source": [
        "### 데이터셋 크기 살펴보기"
      ]
    },
    {
      "cell_type": "code",
      "metadata": {
        "colab": {
          "base_uri": "https://localhost:8080/"
        },
        "id": "TSBBZ9lRLJLa",
        "outputId": "cbf6c214-0027-453b-feb9-8fe5ccf5fe7d"
      },
      "source": [
        "print(df.shape)"
      ],
      "execution_count": null,
      "outputs": [
        {
          "output_type": "stream",
          "text": [
            "(200, 4)\n"
          ],
          "name": "stdout"
        }
      ]
    },
    {
      "cell_type": "markdown",
      "metadata": {
        "id": "HRHjsh0xYUjg"
      },
      "source": [
        "### 데이터셋 살짝 살펴보기"
      ]
    },
    {
      "cell_type": "code",
      "metadata": {
        "colab": {
          "base_uri": "https://localhost:8080/",
          "height": 321
        },
        "id": "spTnCen_WKdY",
        "outputId": "1ec0b4ed-7d4e-4128-d2bd-79b056d02d2f"
      },
      "source": [
        "sns.pairplot(df, x_vars=['TV', 'Newspaper', 'Radio'], y_vars=['Sales'], height=4)"
      ],
      "execution_count": null,
      "outputs": [
        {
          "output_type": "execute_result",
          "data": {
            "text/plain": [
              "<seaborn.axisgrid.PairGrid at 0x7fcb2539cdd0>"
            ]
          },
          "metadata": {
            "tags": []
          },
          "execution_count": 7
        },
        {
          "output_type": "display_data",
          "data": {
            "image/png": "[encoded data removed]",
            "text/plain": [
              "<Figure size 864x288 with 3 Axes>"
            ]
          },
          "metadata": {
            "tags": [],
            "needs_background": "light"
          }
        }
      ]
    },
    {
      "cell_type": "markdown",
      "metadata": {
        "id": "jmvXlwj1aED2"
      },
      "source": [
        "### 데이터셋 가공"
      ]
    },
    {
      "cell_type": "code",
      "metadata": {
        "colab": {
          "base_uri": "https://localhost:8080/"
        },
        "id": "d8k2hvaeaSFz",
        "outputId": "3668649c-ab6c-4ede-e425-3eb899ea1c4d"
      },
      "source": [
        "x_data = np.array(df[['TV']], dtype=np.float32)\n",
        "y_data = np.array(df['Sales'], dtype=np.float32)\n",
        "\n",
        "print(x_data.shape)\n",
        "print(y_data.shape)"
      ],
      "execution_count": null,
      "outputs": [
        {
          "output_type": "stream",
          "text": [
            "(200, 1)\n",
            "(200,)\n"
          ],
          "name": "stdout"
        }
      ]
    },
    {
      "cell_type": "code",
      "metadata": {
        "colab": {
          "base_uri": "https://localhost:8080/"
        },
        "id": "ddaacFAiaHHD",
        "outputId": "f5c6b165-53bd-4d35-aa7b-3fee694c4561"
      },
      "source": [
        "x_data = x_data.reshape((-1, 1))\n",
        "y_data = y_data.reshape((-1, 1))\n",
        "\n",
        "print(x_data.shape)\n",
        "print(y_data.shape)"
      ],
      "execution_count": null,
      "outputs": [
        {
          "output_type": "stream",
          "text": [
            "(200, 1)\n",
            "(200, 1)\n"
          ],
          "name": "stdout"
        }
      ]
    },
    {
      "cell_type": "markdown",
      "metadata": {
        "id": "ghw_Bg0pYZEz"
      },
      "source": [
        "### 데이터셋 분할\n",
        "\n",
        "학습 데이터 80%\n",
        "검증 데이터 20%\n",
        "\n",
        "참고) 강의에서는 편의를 위해 테스트 데이터를 나누지 않았습니다. 실무에서는 꼭 학습/검증/테시트 데이터를 나누는 것 잊지마세요!"
      ]
    },
    {
      "cell_type": "code",
      "metadata": {
        "colab": {
          "base_uri": "https://localhost:8080/"
        },
        "id": "TwfkqScaW48i",
        "outputId": "d88a7809-712b-403c-a551-d67b0f41e659"
      },
      "source": [
        "x_train, x_val, y_train, y_val = train_test_split(x_data, y_data, test_size=0.2, random_state=2021)\n",
        "\n",
        "print(x_train.shape, x_val.shape)\n",
        "print(y_train.shape, y_val.shape)"
      ],
      "execution_count": null,
      "outputs": [
        {
          "output_type": "stream",
          "text": [
            "(160, 1) (40, 1)\n",
            "(160, 1) (40, 1)\n"
          ],
          "name": "stdout"
        }
      ]
    },
    {
      "cell_type": "markdown",
      "metadata": {
        "id": "t3EsOEewbKEr"
      },
      "source": [
        "### 학습"
      ]
    },
    {
      "cell_type": "code",
      "metadata": {
        "colab": {
          "base_uri": "https://localhost:8080/"
        },
        "id": "e3pCXpbJYJ_I",
        "outputId": "8b11e2c4-c92a-4841-b511-ba360f72067c"
      },
      "source": [
        "model = Sequential([\n",
        "  Dense(1)\n",
        "])\n",
        "\n",
        "model.compile(loss='mean_squared_error', optimizer=Adam(lr=0.1))\n",
        "\n",
        "model.fit(\n",
        "    x_train,\n",
        "    y_train,\n",
        "    validation_data=(x_val, y_val), # 검증 데이터를 넣어주면 한 epoch이 끝날때마다 자동으로 검증\n",
        "    epochs=100 # epochs 복수형으로 쓰기!\n",
        ")"
      ],
      "execution_count": null,
      "outputs": [
        {
          "output_type": "stream",
          "text": [
            "/usr/local/lib/python3.7/dist-packages/tensorflow/python/keras/optimizer_v2/optimizer_v2.py:375: UserWarning: The `lr` argument is deprecated, use `learning_rate` instead.\n",
            "  \"The `lr` argument is deprecated, use `learning_rate` instead.\")\n"
          ],
          "name": "stderr"
        },
        {
          "output_type": "stream",
          "text": [
            "Epoch 1/100\n",
            "5/5 [==============================] - 1s 39ms/step - loss: 3521.3230 - val_loss: 81.4776\n",
            "Epoch 2/100\n",
            "5/5 [==============================] - 0s 7ms/step - loss: 406.7527 - val_loss: 1204.5789\n",
            "Epoch 3/100\n",
            "5/5 [==============================] - 0s 7ms/step - loss: 978.8726 - val_loss: 518.1392\n",
            "Epoch 4/100\n",
            "5/5 [==============================] - 0s 6ms/step - loss: 165.2190 - val_loss: 54.0941\n",
            "Epoch 5/100\n",
            "5/5 [==============================] - 0s 7ms/step - loss: 184.1416 - val_loss: 309.4181\n",
            "Epoch 6/100\n",
            "5/5 [==============================] - 0s 6ms/step - loss: 207.0426 - val_loss: 47.0916\n",
            "Epoch 7/100\n",
            "5/5 [==============================] - 0s 6ms/step - loss: 32.4862 - val_loss: 78.5882\n",
            "Epoch 8/100\n",
            "5/5 [==============================] - 0s 6ms/step - loss: 78.6858 - val_loss: 72.9313\n",
            "Epoch 9/100\n",
            "5/5 [==============================] - 0s 8ms/step - loss: 32.2046 - val_loss: 18.5753\n",
            "Epoch 10/100\n",
            "5/5 [==============================] - 0s 7ms/step - loss: 28.8896 - val_loss: 37.5631\n",
            "Epoch 11/100\n",
            "5/5 [==============================] - 0s 9ms/step - loss: 26.8708 - val_loss: 17.0528\n",
            "Epoch 12/100\n",
            "5/5 [==============================] - 0s 7ms/step - loss: 15.7021 - val_loss: 26.8873\n",
            "Epoch 13/100\n",
            "5/5 [==============================] - 0s 8ms/step - loss: 20.5923 - val_loss: 20.1450\n",
            "Epoch 14/100\n",
            "5/5 [==============================] - 0s 7ms/step - loss: 14.3533 - val_loss: 17.9765\n",
            "Epoch 15/100\n",
            "5/5 [==============================] - 0s 8ms/step - loss: 16.5939 - val_loss: 17.0514\n",
            "Epoch 16/100\n",
            "5/5 [==============================] - 0s 7ms/step - loss: 14.3004 - val_loss: 17.8406\n",
            "Epoch 17/100\n",
            "5/5 [==============================] - 0s 7ms/step - loss: 14.5279 - val_loss: 17.2326\n",
            "Epoch 18/100\n",
            "5/5 [==============================] - 0s 9ms/step - loss: 13.8139 - val_loss: 15.9829\n",
            "Epoch 19/100\n",
            "5/5 [==============================] - 0s 11ms/step - loss: 13.6134 - val_loss: 15.7933\n",
            "Epoch 20/100\n",
            "5/5 [==============================] - 0s 8ms/step - loss: 13.2950 - val_loss: 16.0229\n",
            "Epoch 21/100\n",
            "5/5 [==============================] - 0s 7ms/step - loss: 13.3011 - val_loss: 15.5512\n",
            "Epoch 22/100\n",
            "5/5 [==============================] - 0s 7ms/step - loss: 12.9701 - val_loss: 15.4449\n",
            "Epoch 23/100\n",
            "5/5 [==============================] - 0s 7ms/step - loss: 12.8581 - val_loss: 15.2850\n",
            "Epoch 24/100\n",
            "5/5 [==============================] - 0s 8ms/step - loss: 12.6849 - val_loss: 15.1012\n",
            "Epoch 25/100\n",
            "5/5 [==============================] - 0s 8ms/step - loss: 12.5455 - val_loss: 14.9152\n",
            "Epoch 26/100\n",
            "5/5 [==============================] - 0s 8ms/step - loss: 12.5275 - val_loss: 14.6147\n",
            "Epoch 27/100\n",
            "5/5 [==============================] - 0s 9ms/step - loss: 12.3656 - val_loss: 14.8573\n",
            "Epoch 28/100\n",
            "5/5 [==============================] - 0s 9ms/step - loss: 12.2058 - val_loss: 14.3217\n",
            "Epoch 29/100\n",
            "5/5 [==============================] - 0s 12ms/step - loss: 12.0481 - val_loss: 14.1175\n",
            "Epoch 30/100\n",
            "5/5 [==============================] - 0s 9ms/step - loss: 11.8851 - val_loss: 14.3026\n",
            "Epoch 31/100\n",
            "5/5 [==============================] - 0s 9ms/step - loss: 11.9679 - val_loss: 13.7512\n",
            "Epoch 32/100\n",
            "5/5 [==============================] - 0s 9ms/step - loss: 11.6844 - val_loss: 13.8659\n",
            "Epoch 33/100\n",
            "5/5 [==============================] - 0s 8ms/step - loss: 11.4942 - val_loss: 13.4732\n",
            "Epoch 34/100\n",
            "5/5 [==============================] - 0s 7ms/step - loss: 11.3963 - val_loss: 13.2480\n",
            "Epoch 35/100\n",
            "5/5 [==============================] - 0s 10ms/step - loss: 11.3192 - val_loss: 13.6359\n",
            "Epoch 36/100\n",
            "5/5 [==============================] - 0s 8ms/step - loss: 11.1330 - val_loss: 12.8996\n",
            "Epoch 37/100\n",
            "5/5 [==============================] - 0s 8ms/step - loss: 10.9333 - val_loss: 12.7402\n",
            "Epoch 38/100\n",
            "5/5 [==============================] - 0s 8ms/step - loss: 10.7731 - val_loss: 12.6019\n",
            "Epoch 39/100\n",
            "5/5 [==============================] - 0s 8ms/step - loss: 10.6024 - val_loss: 12.4682\n",
            "Epoch 40/100\n",
            "5/5 [==============================] - 0s 7ms/step - loss: 10.4648 - val_loss: 12.4041\n",
            "Epoch 41/100\n",
            "5/5 [==============================] - 0s 9ms/step - loss: 10.3802 - val_loss: 12.2306\n",
            "Epoch 42/100\n",
            "5/5 [==============================] - 0s 8ms/step - loss: 10.5545 - val_loss: 11.9280\n",
            "Epoch 43/100\n",
            "5/5 [==============================] - 0s 8ms/step - loss: 10.1566 - val_loss: 12.2389\n",
            "Epoch 44/100\n",
            "5/5 [==============================] - 0s 8ms/step - loss: 10.1438 - val_loss: 11.6605\n",
            "Epoch 45/100\n",
            "5/5 [==============================] - 0s 9ms/step - loss: 9.8922 - val_loss: 11.5451\n",
            "Epoch 46/100\n",
            "5/5 [==============================] - 0s 7ms/step - loss: 10.0703 - val_loss: 11.5415\n",
            "Epoch 47/100\n",
            "5/5 [==============================] - 0s 8ms/step - loss: 9.7774 - val_loss: 11.1742\n",
            "Epoch 48/100\n",
            "5/5 [==============================] - 0s 7ms/step - loss: 9.7015 - val_loss: 11.1643\n",
            "Epoch 49/100\n",
            "5/5 [==============================] - 0s 8ms/step - loss: 9.3741 - val_loss: 10.8703\n",
            "Epoch 50/100\n",
            "5/5 [==============================] - 0s 7ms/step - loss: 9.2294 - val_loss: 10.8368\n",
            "Epoch 51/100\n",
            "5/5 [==============================] - 0s 8ms/step - loss: 9.3370 - val_loss: 10.6703\n",
            "Epoch 52/100\n",
            "5/5 [==============================] - 0s 8ms/step - loss: 9.1071 - val_loss: 10.4494\n",
            "Epoch 53/100\n",
            "5/5 [==============================] - 0s 8ms/step - loss: 8.8859 - val_loss: 10.5457\n",
            "Epoch 54/100\n",
            "5/5 [==============================] - 0s 8ms/step - loss: 9.1603 - val_loss: 10.1858\n",
            "Epoch 55/100\n",
            "5/5 [==============================] - 0s 9ms/step - loss: 8.9678 - val_loss: 10.4802\n",
            "Epoch 56/100\n",
            "5/5 [==============================] - 0s 8ms/step - loss: 8.6452 - val_loss: 9.9491\n",
            "Epoch 57/100\n",
            "5/5 [==============================] - 0s 8ms/step - loss: 8.6076 - val_loss: 9.8930\n",
            "Epoch 58/100\n",
            "5/5 [==============================] - 0s 8ms/step - loss: 8.4898 - val_loss: 9.9298\n",
            "Epoch 59/100\n",
            "5/5 [==============================] - 0s 12ms/step - loss: 8.4339 - val_loss: 9.5599\n",
            "Epoch 60/100\n",
            "5/5 [==============================] - 0s 9ms/step - loss: 8.3066 - val_loss: 9.6307\n",
            "Epoch 61/100\n",
            "5/5 [==============================] - 0s 8ms/step - loss: 8.1148 - val_loss: 9.3570\n",
            "Epoch 62/100\n",
            "5/5 [==============================] - 0s 6ms/step - loss: 8.2531 - val_loss: 9.2070\n",
            "Epoch 63/100\n",
            "5/5 [==============================] - 0s 7ms/step - loss: 7.9198 - val_loss: 9.4818\n",
            "Epoch 64/100\n",
            "5/5 [==============================] - 0s 6ms/step - loss: 7.9549 - val_loss: 8.9889\n",
            "Epoch 65/100\n",
            "5/5 [==============================] - 0s 7ms/step - loss: 7.8140 - val_loss: 8.9152\n",
            "Epoch 66/100\n",
            "5/5 [==============================] - 0s 7ms/step - loss: 7.7067 - val_loss: 8.8378\n",
            "Epoch 67/100\n",
            "5/5 [==============================] - 0s 7ms/step - loss: 7.6030 - val_loss: 8.6944\n",
            "Epoch 68/100\n",
            "5/5 [==============================] - 0s 8ms/step - loss: 7.5210 - val_loss: 8.5883\n",
            "Epoch 69/100\n",
            "5/5 [==============================] - 0s 7ms/step - loss: 7.5370 - val_loss: 8.5835\n",
            "Epoch 70/100\n",
            "5/5 [==============================] - 0s 6ms/step - loss: 7.4295 - val_loss: 8.3949\n",
            "Epoch 71/100\n",
            "5/5 [==============================] - 0s 7ms/step - loss: 7.2523 - val_loss: 8.4544\n",
            "Epoch 72/100\n",
            "5/5 [==============================] - 0s 7ms/step - loss: 7.3878 - val_loss: 8.2694\n",
            "Epoch 73/100\n",
            "5/5 [==============================] - 0s 7ms/step - loss: 7.2601 - val_loss: 8.2897\n",
            "Epoch 74/100\n",
            "5/5 [==============================] - 0s 10ms/step - loss: 7.4488 - val_loss: 8.3679\n",
            "Epoch 75/100\n",
            "5/5 [==============================] - 0s 9ms/step - loss: 7.4154 - val_loss: 8.0878\n",
            "Epoch 76/100\n",
            "5/5 [==============================] - 0s 8ms/step - loss: 7.0836 - val_loss: 8.2009\n",
            "Epoch 77/100\n",
            "5/5 [==============================] - 0s 7ms/step - loss: 7.3161 - val_loss: 7.8137\n",
            "Epoch 78/100\n",
            "5/5 [==============================] - 0s 8ms/step - loss: 6.8084 - val_loss: 8.0496\n",
            "Epoch 79/100\n",
            "5/5 [==============================] - 0s 6ms/step - loss: 6.9053 - val_loss: 7.6497\n",
            "Epoch 80/100\n",
            "5/5 [==============================] - 0s 6ms/step - loss: 6.7517 - val_loss: 7.6679\n",
            "Epoch 81/100\n",
            "5/5 [==============================] - 0s 7ms/step - loss: 6.6653 - val_loss: 7.6031\n",
            "Epoch 82/100\n",
            "5/5 [==============================] - 0s 6ms/step - loss: 6.6693 - val_loss: 7.4315\n",
            "Epoch 83/100\n",
            "5/5 [==============================] - 0s 7ms/step - loss: 6.7297 - val_loss: 7.4784\n",
            "Epoch 84/100\n",
            "5/5 [==============================] - 0s 7ms/step - loss: 6.6830 - val_loss: 7.3110\n",
            "Epoch 85/100\n",
            "5/5 [==============================] - 0s 6ms/step - loss: 6.4125 - val_loss: 7.3625\n",
            "Epoch 86/100\n",
            "5/5 [==============================] - 0s 7ms/step - loss: 6.4328 - val_loss: 7.1797\n",
            "Epoch 87/100\n",
            "5/5 [==============================] - 0s 9ms/step - loss: 6.3840 - val_loss: 7.1201\n",
            "Epoch 88/100\n",
            "5/5 [==============================] - 0s 8ms/step - loss: 6.2911 - val_loss: 7.0661\n",
            "Epoch 89/100\n",
            "5/5 [==============================] - 0s 7ms/step - loss: 6.3154 - val_loss: 7.0539\n",
            "Epoch 90/100\n",
            "5/5 [==============================] - 0s 6ms/step - loss: 6.2978 - val_loss: 7.0157\n",
            "Epoch 91/100\n",
            "5/5 [==============================] - 0s 6ms/step - loss: 6.2023 - val_loss: 6.9011\n",
            "Epoch 92/100\n",
            "5/5 [==============================] - 0s 8ms/step - loss: 6.1665 - val_loss: 6.9029\n",
            "Epoch 93/100\n",
            "5/5 [==============================] - 0s 7ms/step - loss: 6.1200 - val_loss: 6.8081\n",
            "Epoch 94/100\n",
            "5/5 [==============================] - 0s 7ms/step - loss: 6.1931 - val_loss: 6.8314\n",
            "Epoch 95/100\n",
            "5/5 [==============================] - 0s 7ms/step - loss: 6.0486 - val_loss: 6.7986\n",
            "Epoch 96/100\n",
            "5/5 [==============================] - 0s 6ms/step - loss: 6.0578 - val_loss: 6.9014\n",
            "Epoch 97/100\n",
            "5/5 [==============================] - 0s 8ms/step - loss: 5.9867 - val_loss: 6.6291\n",
            "Epoch 98/100\n",
            "5/5 [==============================] - 0s 7ms/step - loss: 6.0067 - val_loss: 6.5943\n",
            "Epoch 99/100\n",
            "5/5 [==============================] - 0s 6ms/step - loss: 6.0498 - val_loss: 6.5818\n",
            "Epoch 100/100\n",
            "5/5 [==============================] - 0s 7ms/step - loss: 6.0346 - val_loss: 6.5157\n"
          ],
          "name": "stdout"
        },
        {
          "output_type": "execute_result",
          "data": {
            "text/plain": [
              "<tensorflow.python.keras.callbacks.History at 0x7fcb1781a450>"
            ]
          },
          "metadata": {
            "tags": []
          },
          "execution_count": 11
        }
      ]
    },
    {
      "cell_type": "markdown",
      "metadata": {
        "id": "cl7D4qePcLz6"
      },
      "source": [
        "### 검증 데이터로 예측하기"
      ]
    },
    {
      "cell_type": "code",
      "metadata": {
        "colab": {
          "base_uri": "https://localhost:8080/",
          "height": 265
        },
        "id": "DSDFaX_ZcKDQ",
        "outputId": "846d5e2d-e514-43ca-c28b-256c50783ef3"
      },
      "source": [
        "y_pred = model.predict(x_val)\n",
        "\n",
        "plt.scatter(x_val, y_val)\n",
        "plt.scatter(x_val, y_pred, color='r')\n",
        "plt.show()"
      ],
      "execution_count": null,
      "outputs": [
        {
          "output_type": "display_data",
          "data": {
            "image/png": "[encoded data removed]",
            "text/plain": [
              "<Figure size 432x288 with 1 Axes>"
            ]
          },
          "metadata": {
            "tags": [],
            "needs_background": "light"
          }
        }
      ]
    },
    {
      "cell_type": "markdown",
      "metadata": {
        "id": "X5mgiMiCyVPI"
      },
      "source": [
        "## 광고 데이터 예측하기 (Multi-variable linear regression)\n",
        "\n",
        "TV, Newspaper, Radio 광고 금액으로 Sales 예측하기"
      ]
    },
    {
      "cell_type": "code",
      "metadata": {
        "colab": {
          "base_uri": "https://localhost:8080/"
        },
        "id": "-QHEaAyIZTHn",
        "outputId": "e98e2c74-8f4f-48d4-a273-046978f1ac7c"
      },
      "source": [
        "from tensorflow.keras.models import Sequential\n",
        "from tensorflow.keras.layers import Dense\n",
        "from tensorflow.keras.optimizers import Adam, SGD\n",
        "import numpy as np\n",
        "import pandas as pd\n",
        "import matplotlib.pyplot as plt \n",
        "import seaborn as sns\n",
        "from sklearn.model_selection import train_test_split\n",
        "\n",
        "df = pd.read_csv('advertising.csv')\n",
        "\n",
        "x_data = np.array(df[['TV', 'Newspaper', 'Radio']], dtype=np.float32)\n",
        "y_data = np.array(df['Sales'], dtype=np.float32)\n",
        "\n",
        "x_data = x_data.reshape((-1, 3))\n",
        "y_data = y_data.reshape((-1, 1))\n",
        "\n",
        "print(x_data.shape)\n",
        "print(y_data.shape)\n",
        "\n",
        "x_train, x_val, y_train, y_val = train_test_split(x_data, y_data, test_size=0.2, random_state=2021)\n",
        "\n",
        "print(x_train.shape, x_val.shape)\n",
        "print(y_train.shape, y_val.shape)\n",
        "\n",
        "model = Sequential([\n",
        "  Dense(1)\n",
        "])\n",
        "\n",
        "model.compile(loss='mean_squared_error', optimizer=Adam(lr=0.1))\n",
        "\n",
        "model.fit(\n",
        "    x_train,\n",
        "    y_train,\n",
        "    validation_data=(x_val, y_val), # 검증 데이터를 넣어주면 한 epoch이 끝날때마다 자동으로 검증\n",
        "    epochs=100 # epochs 복수형으로 쓰기!\n",
        ")"
      ],
      "execution_count": null,
      "outputs": [
        {
          "output_type": "stream",
          "text": [
            "(200, 3)\n",
            "(200, 1)\n",
            "(160, 3) (40, 3)\n",
            "(160, 1) (40, 1)\n",
            "Epoch 1/100\n"
          ],
          "name": "stdout"
        },
        {
          "output_type": "stream",
          "text": [
            "/usr/local/lib/python3.7/dist-packages/tensorflow/python/keras/optimizer_v2/optimizer_v2.py:375: UserWarning: The `lr` argument is deprecated, use `learning_rate` instead.\n",
            "  \"The `lr` argument is deprecated, use `learning_rate` instead.\")\n"
          ],
          "name": "stderr"
        },
        {
          "output_type": "stream",
          "text": [
            "5/5 [==============================] - 0s 32ms/step - loss: 1676.2725 - val_loss: 932.3961\n",
            "Epoch 2/100\n",
            "5/5 [==============================] - 0s 7ms/step - loss: 1278.2263 - val_loss: 669.5577\n",
            "Epoch 3/100\n",
            "5/5 [==============================] - 0s 7ms/step - loss: 257.2200 - val_loss: 377.4246\n",
            "Epoch 4/100\n",
            "5/5 [==============================] - 0s 7ms/step - loss: 439.0438 - val_loss: 222.8134\n",
            "Epoch 5/100\n",
            "5/5 [==============================] - 0s 8ms/step - loss: 67.9118 - val_loss: 83.5364\n",
            "Epoch 6/100\n",
            "5/5 [==============================] - 0s 7ms/step - loss: 128.8741 - val_loss: 82.7784\n",
            "Epoch 7/100\n",
            "5/5 [==============================] - 0s 8ms/step - loss: 34.6556 - val_loss: 55.8336\n",
            "Epoch 8/100\n",
            "5/5 [==============================] - 0s 8ms/step - loss: 63.3307 - val_loss: 45.5366\n",
            "Epoch 9/100\n",
            "5/5 [==============================] - 0s 8ms/step - loss: 20.9695 - val_loss: 34.3612\n",
            "Epoch 10/100\n",
            "5/5 [==============================] - 0s 7ms/step - loss: 30.3062 - val_loss: 12.1529\n",
            "Epoch 11/100\n",
            "5/5 [==============================] - 0s 9ms/step - loss: 11.0118 - val_loss: 22.5960\n",
            "Epoch 12/100\n",
            "5/5 [==============================] - 0s 9ms/step - loss: 11.5677 - val_loss: 8.6574\n",
            "Epoch 13/100\n",
            "5/5 [==============================] - 0s 8ms/step - loss: 8.8221 - val_loss: 12.6928\n",
            "Epoch 14/100\n",
            "5/5 [==============================] - 0s 7ms/step - loss: 8.3346 - val_loss: 10.5063\n",
            "Epoch 15/100\n",
            "5/5 [==============================] - 0s 7ms/step - loss: 7.4546 - val_loss: 8.5275\n",
            "Epoch 16/100\n",
            "5/5 [==============================] - 0s 6ms/step - loss: 6.1714 - val_loss: 9.0739\n",
            "Epoch 17/100\n",
            "5/5 [==============================] - 0s 8ms/step - loss: 5.7067 - val_loss: 8.9144\n",
            "Epoch 18/100\n",
            "5/5 [==============================] - 0s 7ms/step - loss: 6.1327 - val_loss: 8.5994\n",
            "Epoch 19/100\n",
            "5/5 [==============================] - 0s 6ms/step - loss: 5.6037 - val_loss: 8.6290\n",
            "Epoch 20/100\n",
            "5/5 [==============================] - 0s 7ms/step - loss: 5.5824 - val_loss: 8.6071\n",
            "Epoch 21/100\n",
            "5/5 [==============================] - 0s 7ms/step - loss: 5.5631 - val_loss: 8.3577\n",
            "Epoch 22/100\n",
            "5/5 [==============================] - 0s 7ms/step - loss: 5.5158 - val_loss: 8.2489\n",
            "Epoch 23/100\n",
            "5/5 [==============================] - 0s 6ms/step - loss: 5.4649 - val_loss: 8.3483\n",
            "Epoch 24/100\n",
            "5/5 [==============================] - 0s 7ms/step - loss: 5.4392 - val_loss: 8.1433\n",
            "Epoch 25/100\n",
            "5/5 [==============================] - 0s 6ms/step - loss: 5.5003 - val_loss: 8.0821\n",
            "Epoch 26/100\n",
            "5/5 [==============================] - 0s 7ms/step - loss: 5.2763 - val_loss: 8.1296\n",
            "Epoch 27/100\n",
            "5/5 [==============================] - 0s 8ms/step - loss: 5.2736 - val_loss: 8.0084\n",
            "Epoch 28/100\n",
            "5/5 [==============================] - 0s 7ms/step - loss: 5.1861 - val_loss: 7.9648\n",
            "Epoch 29/100\n",
            "5/5 [==============================] - 0s 7ms/step - loss: 5.2068 - val_loss: 7.9067\n",
            "Epoch 30/100\n",
            "5/5 [==============================] - 0s 8ms/step - loss: 5.2868 - val_loss: 7.8421\n",
            "Epoch 31/100\n",
            "5/5 [==============================] - 0s 9ms/step - loss: 5.0747 - val_loss: 7.8051\n",
            "Epoch 32/100\n",
            "5/5 [==============================] - 0s 7ms/step - loss: 5.1737 - val_loss: 7.8536\n",
            "Epoch 33/100\n",
            "5/5 [==============================] - 0s 8ms/step - loss: 5.1370 - val_loss: 7.6717\n",
            "Epoch 34/100\n",
            "5/5 [==============================] - 0s 8ms/step - loss: 5.1164 - val_loss: 7.6221\n",
            "Epoch 35/100\n",
            "5/5 [==============================] - 0s 6ms/step - loss: 4.9958 - val_loss: 7.7271\n",
            "Epoch 36/100\n",
            "5/5 [==============================] - 0s 7ms/step - loss: 4.8817 - val_loss: 7.5580\n",
            "Epoch 37/100\n",
            "5/5 [==============================] - 0s 7ms/step - loss: 4.9835 - val_loss: 7.5396\n",
            "Epoch 38/100\n",
            "5/5 [==============================] - 0s 9ms/step - loss: 4.9242 - val_loss: 7.3901\n",
            "Epoch 39/100\n",
            "5/5 [==============================] - 0s 7ms/step - loss: 5.2009 - val_loss: 7.3279\n",
            "Epoch 40/100\n",
            "5/5 [==============================] - 0s 6ms/step - loss: 4.8226 - val_loss: 7.4922\n",
            "Epoch 41/100\n",
            "5/5 [==============================] - 0s 6ms/step - loss: 4.9146 - val_loss: 7.3086\n",
            "Epoch 42/100\n",
            "5/5 [==============================] - 0s 7ms/step - loss: 4.8628 - val_loss: 7.2963\n",
            "Epoch 43/100\n",
            "5/5 [==============================] - 0s 7ms/step - loss: 4.6998 - val_loss: 7.1864\n",
            "Epoch 44/100\n",
            "5/5 [==============================] - 0s 6ms/step - loss: 4.5644 - val_loss: 7.2214\n",
            "Epoch 45/100\n",
            "5/5 [==============================] - 0s 6ms/step - loss: 4.6862 - val_loss: 7.0046\n",
            "Epoch 46/100\n",
            "5/5 [==============================] - 0s 7ms/step - loss: 4.6943 - val_loss: 6.9838\n",
            "Epoch 47/100\n",
            "5/5 [==============================] - 0s 8ms/step - loss: 4.7371 - val_loss: 7.0247\n",
            "Epoch 48/100\n",
            "5/5 [==============================] - 0s 7ms/step - loss: 4.4647 - val_loss: 7.0465\n",
            "Epoch 49/100\n",
            "5/5 [==============================] - 0s 9ms/step - loss: 4.4871 - val_loss: 6.9614\n",
            "Epoch 50/100\n",
            "5/5 [==============================] - 0s 6ms/step - loss: 4.4614 - val_loss: 6.7414\n",
            "Epoch 51/100\n",
            "5/5 [==============================] - 0s 7ms/step - loss: 4.4529 - val_loss: 6.7609\n",
            "Epoch 52/100\n",
            "5/5 [==============================] - 0s 7ms/step - loss: 4.5015 - val_loss: 6.6293\n",
            "Epoch 53/100\n",
            "5/5 [==============================] - 0s 8ms/step - loss: 4.3347 - val_loss: 6.5867\n",
            "Epoch 54/100\n",
            "5/5 [==============================] - 0s 7ms/step - loss: 4.2173 - val_loss: 6.6696\n",
            "Epoch 55/100\n",
            "5/5 [==============================] - 0s 8ms/step - loss: 4.2867 - val_loss: 6.5394\n",
            "Epoch 56/100\n",
            "5/5 [==============================] - 0s 6ms/step - loss: 4.3997 - val_loss: 6.4688\n",
            "Epoch 57/100\n",
            "5/5 [==============================] - 0s 7ms/step - loss: 4.1777 - val_loss: 6.3716\n",
            "Epoch 58/100\n",
            "5/5 [==============================] - 0s 7ms/step - loss: 4.1355 - val_loss: 6.3427\n",
            "Epoch 59/100\n",
            "5/5 [==============================] - 0s 7ms/step - loss: 4.1345 - val_loss: 6.3099\n",
            "Epoch 60/100\n",
            "5/5 [==============================] - 0s 7ms/step - loss: 4.1128 - val_loss: 6.2828\n",
            "Epoch 61/100\n",
            "5/5 [==============================] - 0s 6ms/step - loss: 4.0132 - val_loss: 6.2231\n",
            "Epoch 62/100\n",
            "5/5 [==============================] - 0s 7ms/step - loss: 4.0004 - val_loss: 6.3018\n",
            "Epoch 63/100\n",
            "5/5 [==============================] - 0s 8ms/step - loss: 4.0079 - val_loss: 6.1568\n",
            "Epoch 64/100\n",
            "5/5 [==============================] - 0s 7ms/step - loss: 3.9593 - val_loss: 6.1204\n",
            "Epoch 65/100\n",
            "5/5 [==============================] - 0s 12ms/step - loss: 3.8659 - val_loss: 6.0004\n",
            "Epoch 66/100\n",
            "5/5 [==============================] - 0s 6ms/step - loss: 3.9107 - val_loss: 5.9391\n",
            "Epoch 67/100\n",
            "5/5 [==============================] - 0s 8ms/step - loss: 3.8192 - val_loss: 5.9048\n",
            "Epoch 68/100\n",
            "5/5 [==============================] - 0s 7ms/step - loss: 3.8352 - val_loss: 5.9201\n",
            "Epoch 69/100\n",
            "5/5 [==============================] - 0s 9ms/step - loss: 3.8561 - val_loss: 5.8432\n",
            "Epoch 70/100\n",
            "5/5 [==============================] - 0s 8ms/step - loss: 3.7575 - val_loss: 5.9277\n",
            "Epoch 71/100\n",
            "5/5 [==============================] - 0s 10ms/step - loss: 3.8530 - val_loss: 5.7564\n",
            "Epoch 72/100\n",
            "5/5 [==============================] - 0s 8ms/step - loss: 3.8197 - val_loss: 5.6954\n",
            "Epoch 73/100\n",
            "5/5 [==============================] - 0s 9ms/step - loss: 3.7993 - val_loss: 5.6486\n",
            "Epoch 74/100\n",
            "5/5 [==============================] - 0s 9ms/step - loss: 3.7105 - val_loss: 5.6326\n",
            "Epoch 75/100\n",
            "5/5 [==============================] - 0s 11ms/step - loss: 3.7544 - val_loss: 5.5721\n",
            "Epoch 76/100\n",
            "5/5 [==============================] - 0s 8ms/step - loss: 3.9135 - val_loss: 5.5125\n",
            "Epoch 77/100\n",
            "5/5 [==============================] - 0s 8ms/step - loss: 3.7376 - val_loss: 5.5592\n",
            "Epoch 78/100\n",
            "5/5 [==============================] - 0s 9ms/step - loss: 3.6187 - val_loss: 5.5060\n",
            "Epoch 79/100\n",
            "5/5 [==============================] - 0s 7ms/step - loss: 3.5816 - val_loss: 5.4855\n",
            "Epoch 80/100\n",
            "5/5 [==============================] - 0s 10ms/step - loss: 3.5075 - val_loss: 5.3851\n",
            "Epoch 81/100\n",
            "5/5 [==============================] - 0s 7ms/step - loss: 3.4634 - val_loss: 5.3121\n",
            "Epoch 82/100\n",
            "5/5 [==============================] - 0s 8ms/step - loss: 3.4932 - val_loss: 5.2778\n",
            "Epoch 83/100\n",
            "5/5 [==============================] - 0s 7ms/step - loss: 3.3983 - val_loss: 5.2992\n",
            "Epoch 84/100\n",
            "5/5 [==============================] - 0s 7ms/step - loss: 3.3868 - val_loss: 5.2431\n",
            "Epoch 85/100\n",
            "5/5 [==============================] - 0s 7ms/step - loss: 3.3461 - val_loss: 5.2536\n",
            "Epoch 86/100\n",
            "5/5 [==============================] - 0s 10ms/step - loss: 3.3796 - val_loss: 5.2070\n",
            "Epoch 87/100\n",
            "5/5 [==============================] - 0s 10ms/step - loss: 3.5113 - val_loss: 5.2312\n",
            "Epoch 88/100\n",
            "5/5 [==============================] - 0s 8ms/step - loss: 3.3881 - val_loss: 5.1719\n",
            "Epoch 89/100\n",
            "5/5 [==============================] - 0s 9ms/step - loss: 3.3630 - val_loss: 5.0482\n",
            "Epoch 90/100\n",
            "5/5 [==============================] - 0s 8ms/step - loss: 3.2456 - val_loss: 5.0400\n",
            "Epoch 91/100\n",
            "5/5 [==============================] - 0s 8ms/step - loss: 3.2982 - val_loss: 4.9881\n",
            "Epoch 92/100\n",
            "5/5 [==============================] - 0s 7ms/step - loss: 3.2868 - val_loss: 4.9622\n",
            "Epoch 93/100\n",
            "5/5 [==============================] - 0s 7ms/step - loss: 3.1823 - val_loss: 4.9365\n",
            "Epoch 94/100\n",
            "5/5 [==============================] - 0s 7ms/step - loss: 3.2097 - val_loss: 4.8905\n",
            "Epoch 95/100\n",
            "5/5 [==============================] - 0s 9ms/step - loss: 3.1550 - val_loss: 4.8860\n",
            "Epoch 96/100\n",
            "5/5 [==============================] - 0s 8ms/step - loss: 3.1943 - val_loss: 4.9235\n",
            "Epoch 97/100\n",
            "5/5 [==============================] - 0s 9ms/step - loss: 3.1943 - val_loss: 4.8506\n",
            "Epoch 98/100\n",
            "5/5 [==============================] - 0s 9ms/step - loss: 3.1298 - val_loss: 4.8384\n",
            "Epoch 99/100\n",
            "5/5 [==============================] - 0s 8ms/step - loss: 3.1443 - val_loss: 4.7613\n",
            "Epoch 100/100\n",
            "5/5 [==============================] - 0s 7ms/step - loss: 3.2077 - val_loss: 4.8947\n"
          ],
          "name": "stdout"
        },
        {
          "output_type": "execute_result",
          "data": {
            "text/plain": [
              "<tensorflow.python.keras.callbacks.History at 0x7fcb145205d0>"
            ]
          },
          "metadata": {
            "tags": []
          },
          "execution_count": 13
        }
      ]
    },
    {
      "cell_type": "code",
      "metadata": {
        "colab": {
          "base_uri": "https://localhost:8080/"
        },
        "id": "-v5iXZoUe0AO",
        "outputId": "a47a81f2-1e9c-4fbf-d084-a060b13ee50c"
      },
      "source": [
        "y_pred = model.predict(x_val)\n",
        "\n",
        "print(y_pred.shape)"
      ],
      "execution_count": null,
      "outputs": [
        {
          "output_type": "stream",
          "text": [
            "(40, 1)\n"
          ],
          "name": "stdout"
        }
      ]
    },
    {
      "cell_type": "markdown",
      "metadata": {
        "id": "m1lZi6pshMEj"
      },
      "source": [
        "## TV 데이터 예측 그래프"
      ]
    },
    {
      "cell_type": "code",
      "metadata": {
        "colab": {
          "base_uri": "https://localhost:8080/",
          "height": 265
        },
        "id": "kHC3fszphZLT",
        "outputId": "4c8895b3-daea-4d73-88e9-4af6206a8155"
      },
      "source": [
        "plt.scatter(x_val[:, 0], y_val)\n",
        "plt.scatter(x_val[:, 0], y_pred, color='r')\n",
        "plt.show()"
      ],
      "execution_count": null,
      "outputs": [
        {
          "output_type": "display_data",
          "data": {
            "image/png": "[encoded data removed]",
            "text/plain": [
              "<Figure size 432x288 with 1 Axes>"
            ]
          },
          "metadata": {
            "tags": [],
            "needs_background": "light"
          }
        }
      ]
    },
    {
      "cell_type": "markdown",
      "metadata": {
        "id": "cZfBsfSbhPN4"
      },
      "source": [
        "## Newspaper 데이터 예측 그래프"
      ]
    },
    {
      "cell_type": "code",
      "metadata": {
        "colab": {
          "base_uri": "https://localhost:8080/",
          "height": 265
        },
        "id": "TPsCzdPshBVU",
        "outputId": "68147fac-4b39-421e-846f-161d03c80087"
      },
      "source": [
        "plt.scatter(x_val[:, 1], y_val)\n",
        "plt.scatter(x_val[:, 1], y_pred, color='r')\n",
        "plt.show()"
      ],
      "execution_count": null,
      "outputs": [
        {
          "output_type": "display_data",
          "data": {
            "image/png": "[encoded data removed]",
            "text/plain": [
              "<Figure size 432x288 with 1 Axes>"
            ]
          },
          "metadata": {
            "tags": [],
            "needs_background": "light"
          }
        }
      ]
    },
    {
      "cell_type": "markdown",
      "metadata": {
        "id": "vjR5zH3gme5P"
      },
      "source": [
        "### Radio 데이터 예측 그래프"
      ]
    },
    {
      "cell_type": "code",
      "metadata": {
        "colab": {
          "base_uri": "https://localhost:8080/",
          "height": 265
        },
        "id": "yxcB-JEmhIcO",
        "outputId": "da738dfb-5a75-49e4-9758-b76a6ea15eb7"
      },
      "source": [
        "plt.scatter(x_val[:, 2], y_val)\n",
        "plt.scatter(x_val[:, 2], y_pred, color='r')\n",
        "plt.show()"
      ],
      "execution_count": null,
      "outputs": [
        {
          "output_type": "display_data",
          "data": {
            "image/png": "[encoded data removed]",
            "text/plain": [
              "<Figure size 432x288 with 1 Axes>"
            ]
          },
          "metadata": {
            "tags": [],
            "needs_background": "light"
          }
        }
      ]
    },
    {
      "cell_type": "code",
      "metadata": {
        "id": "g3hH1c-kmhSz"
      },
      "source": [
        ""
      ],
      "execution_count": null,
      "outputs": []
    }
  ]
}
