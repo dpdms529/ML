{
  "nbformat": 4,
  "nbformat_minor": 0,
  "metadata": {
    "colab": {
      "name": "1주차 실습 - 01. 간단한 선형회귀 실습",
      "provenance": [],
      "collapsed_sections": [],
      "include_colab_link": true
    },
    "kernelspec": {
      "name": "python3",
      "display_name": "Python 3"
    }
  },
  "cells": [
    {
      "cell_type": "markdown",
      "metadata": {
        "id": "view-in-github",
        "colab_type": "text"
      },
      "source": [
        "<a href=\"https://colab.research.google.com/github/dpdms529/ML/blob/main/1%EC%A3%BC%EC%B0%A8_%EC%8B%A4%EC%8A%B5_01_%EA%B0%84%EB%8B%A8%ED%95%9C_%EC%84%A0%ED%98%95%ED%9A%8C%EA%B7%80_%EC%8B%A4%EC%8A%B5.ipynb\" target=\"_parent\"><img src=\"https://colab.research.google.com/assets/colab-badge.svg\" alt=\"Open In Colab\"/></a>"
      ]
    },
    {
      "cell_type": "markdown",
      "metadata": {
        "id": "X97SlAsRBrOe"
      },
      "source": [
        "# 초간단 Linear Regression 실습 (TensorFlow)\n",
        "\n",
        "TensorFlow 공식 가이드 문서: https://www.tensorflow.org/guide\n",
        "\n",
        "Keras 공식 가이드 문서: https://www.tensorflow.org/guide/keras/sequential_model\n",
        "\n",
        "현재 TensorFlow 는 아래 방식으로 구현하는 것을 권장하고 있지 않습니다. 강의에서는 선형 회귀의 이해를 돕기위해 아래의 코드를 사용했지만 TensorFlow에서는 keras 사용하도록 권장하고 있고 우리 강의에서도 **최신 트렌드에 맞게 keras를 사용**할 예정입니다!"
      ]
    },
    {
      "cell_type": "code",
      "metadata": {
        "id": "FABQeusq6k05"
      },
      "source": [
        "import tensorflow as tf\n",
        "\n",
        "tf.compat.v1.disable_eager_execution()\n",
        "\n",
        "x_data = [[1, 1], [2, 2], [3, 3]]\n",
        "y_data = [[10], [20], [30]]\n",
        "\n",
        "X = tf.compat.v1.placeholder(tf.float32, shape=[None, 2])\n",
        "Y = tf.compat.v1.placeholder(tf.float32, shape=[None, 1])\n",
        "\n",
        "W = tf.Variable(tf.random.normal(shape=(2, 1)), name='W')\n",
        "b = tf.Variable(tf.random.normal(shape=(1,)), name='b')"
      ],
      "execution_count": null,
      "outputs": []
    },
    {
      "cell_type": "code",
      "metadata": {
        "id": "6CjakDv2CB4D"
      },
      "source": [
        "hypothesis = tf.matmul(X, W) + b\n",
        "cost = tf.reduce_mean(tf.square(hypothesis - Y))\n",
        "optimizer = tf.compat.v1.train.GradientDescentOptimizer(learning_rate=0.01).minimize(cost)"
      ],
      "execution_count": null,
      "outputs": []
    },
    {
      "cell_type": "code",
      "metadata": {
        "colab": {
          "base_uri": "https://localhost:8080/"
        },
        "id": "blnlq78UFEiW",
        "outputId": "f4d10cde-a14d-4bdd-8588-d155c5140305"
      },
      "source": [
        "with tf.compat.v1.Session() as sess:\n",
        "  sess.run(tf.compat.v1.global_variables_initializer())\n",
        "\n",
        "  for step in range(50):\n",
        "    c, W_, b_, _ = sess.run([cost, W, b, optimizer], feed_dict={X: x_data, Y: y_data})\n",
        "    print('Step: %2d\\t loss: %.2f\\t' % (step, c))\n",
        "\n",
        "  print(sess.run(hypothesis, feed_dict={X: [[4, 4]]}))"
      ],
      "execution_count": null,
      "outputs": [
        {
          "output_type": "stream",
          "text": [
            "Step:  0\t loss: 461.42\t\n",
            "Step:  1\t loss: 292.51\t\n",
            "Step:  2\t loss: 185.49\t\n",
            "Step:  3\t loss: 117.70\t\n",
            "Step:  4\t loss: 74.74\t\n",
            "Step:  5\t loss: 47.53\t\n",
            "Step:  6\t loss: 30.29\t\n",
            "Step:  7\t loss: 19.37\t\n",
            "Step:  8\t loss: 12.45\t\n",
            "Step:  9\t loss: 8.06\t\n",
            "Step: 10\t loss: 5.28\t\n",
            "Step: 11\t loss: 3.52\t\n",
            "Step: 12\t loss: 2.40\t\n",
            "Step: 13\t loss: 1.69\t\n",
            "Step: 14\t loss: 1.24\t\n",
            "Step: 15\t loss: 0.96\t\n",
            "Step: 16\t loss: 0.78\t\n",
            "Step: 17\t loss: 0.66\t\n",
            "Step: 18\t loss: 0.58\t\n",
            "Step: 19\t loss: 0.54\t\n",
            "Step: 20\t loss: 0.51\t\n",
            "Step: 21\t loss: 0.48\t\n",
            "Step: 22\t loss: 0.47\t\n",
            "Step: 23\t loss: 0.46\t\n",
            "Step: 24\t loss: 0.45\t\n",
            "Step: 25\t loss: 0.45\t\n",
            "Step: 26\t loss: 0.44\t\n",
            "Step: 27\t loss: 0.44\t\n",
            "Step: 28\t loss: 0.44\t\n",
            "Step: 29\t loss: 0.44\t\n",
            "Step: 30\t loss: 0.43\t\n",
            "Step: 31\t loss: 0.43\t\n",
            "Step: 32\t loss: 0.43\t\n",
            "Step: 33\t loss: 0.43\t\n",
            "Step: 34\t loss: 0.42\t\n",
            "Step: 35\t loss: 0.42\t\n",
            "Step: 36\t loss: 0.42\t\n",
            "Step: 37\t loss: 0.42\t\n",
            "Step: 38\t loss: 0.41\t\n",
            "Step: 39\t loss: 0.41\t\n",
            "Step: 40\t loss: 0.41\t\n",
            "Step: 41\t loss: 0.41\t\n",
            "Step: 42\t loss: 0.41\t\n",
            "Step: 43\t loss: 0.40\t\n",
            "Step: 44\t loss: 0.40\t\n",
            "Step: 45\t loss: 0.40\t\n",
            "Step: 46\t loss: 0.40\t\n",
            "Step: 47\t loss: 0.40\t\n",
            "Step: 48\t loss: 0.39\t\n",
            "Step: 49\t loss: 0.39\t\n",
            "[[38.781452]]\n"
          ],
          "name": "stdout"
        }
      ]
    },
    {
      "cell_type": "markdown",
      "metadata": {
        "id": "knqMJmBJI-zd"
      },
      "source": [
        "# 초초초간단 Linear Regression 실습 (Keras)"
      ]
    },
    {
      "cell_type": "code",
      "metadata": {
        "colab": {
          "base_uri": "https://localhost:8080/"
        },
        "id": "dvD_mxONFiCy",
        "outputId": "6d988f09-2c91-4cf6-b20c-c310845198a8"
      },
      "source": [
        "import numpy as np\n",
        "from tensorflow.keras.models import Sequential\n",
        "from tensorflow.keras.layers import Dense\n",
        "from tensorflow.keras.optimizers import Adam, SGD\n",
        "\n",
        "x_data = np.array([[1], [2], [3]])\n",
        "y_data = np.array([[10], [20], [30]])\n",
        "\n",
        "model = Sequential([\n",
        "  Dense(1)\n",
        "])\n",
        "\n",
        "model.compile(loss='mean_squared_error', optimizer=SGD(lr=0.1))\n",
        "\n",
        "model.fit(x_data, y_data, epochs=100) # epochs 복수형으로 쓰기!"
      ],
      "execution_count": null,
      "outputs": [
        {
          "output_type": "stream",
          "text": [
            "/usr/local/lib/python3.7/dist-packages/tensorflow/python/keras/optimizer_v2/optimizer_v2.py:375: UserWarning: The `lr` argument is deprecated, use `learning_rate` instead.\n",
            "  \"The `lr` argument is deprecated, use `learning_rate` instead.\")\n"
          ],
          "name": "stderr"
        },
        {
          "output_type": "stream",
          "text": [
            "Train on 3 samples\n",
            "Epoch 1/100\n",
            "3/3 [==============================] - 0s 54ms/sample - loss: 393.8019\n",
            "Epoch 2/100\n",
            "3/3 [==============================] - 0s 1ms/sample - loss: 6.2508\n",
            "Epoch 3/100\n",
            "3/3 [==============================] - 0s 2ms/sample - loss: 1.5480\n",
            "Epoch 4/100\n",
            "3/3 [==============================] - 0s 3ms/sample - loss: 1.4218\n",
            "Epoch 5/100\n",
            "3/3 [==============================] - 0s 2ms/sample - loss: 1.3537\n",
            "Epoch 6/100\n",
            "3/3 [==============================] - 0s 2ms/sample - loss: 1.2893\n",
            "Epoch 7/100\n",
            "3/3 [==============================] - 0s 1ms/sample - loss: 1.2281\n",
            "Epoch 8/100\n",
            "3/3 [==============================] - 0s 1ms/sample - loss: 1.1698\n",
            "Epoch 9/100\n",
            "3/3 [==============================] - 0s 1ms/sample - loss: 1.1142\n",
            "Epoch 10/100\n",
            "3/3 [==============================] - 0s 1ms/sample - loss: 1.0613\n",
            "Epoch 11/100\n",
            "3/3 [==============================] - 0s 2ms/sample - loss: 1.0109\n",
            "Epoch 12/100\n",
            "3/3 [==============================] - 0s 1ms/sample - loss: 0.9628\n",
            "Epoch 13/100\n",
            "3/3 [==============================] - 0s 1ms/sample - loss: 0.9171\n",
            "Epoch 14/100\n",
            "3/3 [==============================] - 0s 1ms/sample - loss: 0.8735\n",
            "Epoch 15/100\n",
            "3/3 [==============================] - 0s 2ms/sample - loss: 0.8321\n",
            "Epoch 16/100\n",
            "3/3 [==============================] - 0s 1ms/sample - loss: 0.7925\n",
            "Epoch 17/100\n",
            "3/3 [==============================] - 0s 1ms/sample - loss: 0.7549\n",
            "Epoch 18/100\n",
            "3/3 [==============================] - 0s 1ms/sample - loss: 0.7190\n",
            "Epoch 19/100\n",
            "3/3 [==============================] - 0s 1ms/sample - loss: 0.6849\n",
            "Epoch 20/100\n",
            "3/3 [==============================] - 0s 1ms/sample - loss: 0.6523\n",
            "Epoch 21/100\n",
            "3/3 [==============================] - 0s 1ms/sample - loss: 0.6214\n",
            "Epoch 22/100\n",
            "3/3 [==============================] - 0s 976us/sample - loss: 0.5918\n",
            "Epoch 23/100\n",
            "3/3 [==============================] - 0s 870us/sample - loss: 0.5637\n",
            "Epoch 24/100\n",
            "3/3 [==============================] - 0s 825us/sample - loss: 0.5369\n",
            "Epoch 25/100\n",
            "3/3 [==============================] - 0s 1ms/sample - loss: 0.5114\n",
            "Epoch 26/100\n",
            "3/3 [==============================] - 0s 1ms/sample - loss: 0.4872\n",
            "Epoch 27/100\n",
            "3/3 [==============================] - 0s 2ms/sample - loss: 0.4640\n",
            "Epoch 28/100\n",
            "3/3 [==============================] - 0s 1ms/sample - loss: 0.4420\n",
            "Epoch 29/100\n",
            "3/3 [==============================] - 0s 1ms/sample - loss: 0.4210\n",
            "Epoch 30/100\n",
            "3/3 [==============================] - 0s 1ms/sample - loss: 0.4010\n",
            "Epoch 31/100\n",
            "3/3 [==============================] - 0s 1ms/sample - loss: 0.3819\n",
            "Epoch 32/100\n",
            "3/3 [==============================] - 0s 1ms/sample - loss: 0.3638\n",
            "Epoch 33/100\n",
            "3/3 [==============================] - 0s 998us/sample - loss: 0.3465\n",
            "Epoch 34/100\n",
            "3/3 [==============================] - 0s 1ms/sample - loss: 0.3301\n",
            "Epoch 35/100\n",
            "3/3 [==============================] - 0s 1ms/sample - loss: 0.3144\n",
            "Epoch 36/100\n",
            "3/3 [==============================] - 0s 1ms/sample - loss: 0.2994\n",
            "Epoch 37/100\n",
            "3/3 [==============================] - 0s 1ms/sample - loss: 0.2852\n",
            "Epoch 38/100\n",
            "3/3 [==============================] - 0s 1ms/sample - loss: 0.2717\n",
            "Epoch 39/100\n",
            "3/3 [==============================] - 0s 2ms/sample - loss: 0.2588\n",
            "Epoch 40/100\n",
            "3/3 [==============================] - 0s 1ms/sample - loss: 0.2465\n",
            "Epoch 41/100\n",
            "3/3 [==============================] - 0s 959us/sample - loss: 0.2348\n",
            "Epoch 42/100\n",
            "3/3 [==============================] - 0s 2ms/sample - loss: 0.2236\n",
            "Epoch 43/100\n",
            "3/3 [==============================] - 0s 1ms/sample - loss: 0.2130\n",
            "Epoch 44/100\n",
            "3/3 [==============================] - 0s 2ms/sample - loss: 0.2029\n",
            "Epoch 45/100\n",
            "3/3 [==============================] - 0s 989us/sample - loss: 0.1932\n",
            "Epoch 46/100\n",
            "3/3 [==============================] - 0s 2ms/sample - loss: 0.1841\n",
            "Epoch 47/100\n",
            "3/3 [==============================] - 0s 3ms/sample - loss: 0.1753\n",
            "Epoch 48/100\n",
            "3/3 [==============================] - 0s 1ms/sample - loss: 0.1670\n",
            "Epoch 49/100\n",
            "3/3 [==============================] - 0s 1ms/sample - loss: 0.1591\n",
            "Epoch 50/100\n",
            "3/3 [==============================] - 0s 936us/sample - loss: 0.1515\n",
            "Epoch 51/100\n",
            "3/3 [==============================] - 0s 2ms/sample - loss: 0.1443\n",
            "Epoch 52/100\n",
            "3/3 [==============================] - 0s 2ms/sample - loss: 0.1374\n",
            "Epoch 53/100\n",
            "3/3 [==============================] - 0s 958us/sample - loss: 0.1309\n",
            "Epoch 54/100\n",
            "3/3 [==============================] - 0s 2ms/sample - loss: 0.1247\n",
            "Epoch 55/100\n",
            "3/3 [==============================] - 0s 2ms/sample - loss: 0.1188\n",
            "Epoch 56/100\n",
            "3/3 [==============================] - 0s 960us/sample - loss: 0.1131\n",
            "Epoch 57/100\n",
            "3/3 [==============================] - 0s 1ms/sample - loss: 0.1078\n",
            "Epoch 58/100\n",
            "3/3 [==============================] - 0s 888us/sample - loss: 0.1026\n",
            "Epoch 59/100\n",
            "3/3 [==============================] - 0s 2ms/sample - loss: 0.0978\n",
            "Epoch 60/100\n",
            "3/3 [==============================] - 0s 850us/sample - loss: 0.0931\n",
            "Epoch 61/100\n",
            "3/3 [==============================] - 0s 1ms/sample - loss: 0.0887\n",
            "Epoch 62/100\n",
            "3/3 [==============================] - 0s 1ms/sample - loss: 0.0845\n",
            "Epoch 63/100\n",
            "3/3 [==============================] - 0s 1ms/sample - loss: 0.0805\n",
            "Epoch 64/100\n",
            "3/3 [==============================] - 0s 2ms/sample - loss: 0.0767\n",
            "Epoch 65/100\n",
            "3/3 [==============================] - 0s 1ms/sample - loss: 0.0730\n",
            "Epoch 66/100\n",
            "3/3 [==============================] - 0s 923us/sample - loss: 0.0695\n",
            "Epoch 67/100\n",
            "3/3 [==============================] - 0s 2ms/sample - loss: 0.0662\n",
            "Epoch 68/100\n",
            "3/3 [==============================] - 0s 1ms/sample - loss: 0.0631\n",
            "Epoch 69/100\n",
            "3/3 [==============================] - 0s 1ms/sample - loss: 0.0601\n",
            "Epoch 70/100\n",
            "3/3 [==============================] - 0s 1ms/sample - loss: 0.0572\n",
            "Epoch 71/100\n",
            "3/3 [==============================] - 0s 1ms/sample - loss: 0.0545\n",
            "Epoch 72/100\n",
            "3/3 [==============================] - 0s 925us/sample - loss: 0.0519\n",
            "Epoch 73/100\n",
            "3/3 [==============================] - 0s 1ms/sample - loss: 0.0495\n",
            "Epoch 74/100\n",
            "3/3 [==============================] - 0s 1ms/sample - loss: 0.0471\n",
            "Epoch 75/100\n",
            "3/3 [==============================] - 0s 1ms/sample - loss: 0.0449\n",
            "Epoch 76/100\n",
            "3/3 [==============================] - 0s 1ms/sample - loss: 0.0427\n",
            "Epoch 77/100\n",
            "3/3 [==============================] - 0s 1ms/sample - loss: 0.0407\n",
            "Epoch 78/100\n",
            "3/3 [==============================] - 0s 1ms/sample - loss: 0.0388\n",
            "Epoch 79/100\n",
            "3/3 [==============================] - 0s 999us/sample - loss: 0.0369\n",
            "Epoch 80/100\n",
            "3/3 [==============================] - 0s 1ms/sample - loss: 0.0352\n",
            "Epoch 81/100\n",
            "3/3 [==============================] - 0s 1ms/sample - loss: 0.0335\n",
            "Epoch 82/100\n",
            "3/3 [==============================] - 0s 1ms/sample - loss: 0.0319\n",
            "Epoch 83/100\n",
            "3/3 [==============================] - 0s 1ms/sample - loss: 0.0304\n",
            "Epoch 84/100\n",
            "3/3 [==============================] - 0s 4ms/sample - loss: 0.0290\n",
            "Epoch 85/100\n",
            "3/3 [==============================] - 0s 5ms/sample - loss: 0.0276\n",
            "Epoch 86/100\n",
            "3/3 [==============================] - 0s 3ms/sample - loss: 0.0263\n",
            "Epoch 87/100\n",
            "3/3 [==============================] - 0s 1ms/sample - loss: 0.0250\n",
            "Epoch 88/100\n",
            "3/3 [==============================] - 0s 3ms/sample - loss: 0.0238\n",
            "Epoch 89/100\n",
            "3/3 [==============================] - 0s 3ms/sample - loss: 0.0227\n",
            "Epoch 90/100\n",
            "3/3 [==============================] - 0s 3ms/sample - loss: 0.0216\n",
            "Epoch 91/100\n",
            "3/3 [==============================] - 0s 1ms/sample - loss: 0.0206\n",
            "Epoch 92/100\n",
            "3/3 [==============================] - 0s 2ms/sample - loss: 0.0196\n",
            "Epoch 93/100\n",
            "3/3 [==============================] - 0s 2ms/sample - loss: 0.0187\n",
            "Epoch 94/100\n",
            "3/3 [==============================] - 0s 2ms/sample - loss: 0.0178\n",
            "Epoch 95/100\n",
            "3/3 [==============================] - 0s 3ms/sample - loss: 0.0170\n",
            "Epoch 96/100\n",
            "3/3 [==============================] - 0s 1ms/sample - loss: 0.0162\n",
            "Epoch 97/100\n",
            "3/3 [==============================] - 0s 3ms/sample - loss: 0.0154\n",
            "Epoch 98/100\n",
            "3/3 [==============================] - 0s 1ms/sample - loss: 0.0147\n",
            "Epoch 99/100\n",
            "3/3 [==============================] - 0s 1ms/sample - loss: 0.0140\n",
            "Epoch 100/100\n",
            "3/3 [==============================] - 0s 952us/sample - loss: 0.0133\n"
          ],
          "name": "stdout"
        },
        {
          "output_type": "execute_result",
          "data": {
            "text/plain": [
              "<tensorflow.python.keras.callbacks.History at 0x7f426414ce50>"
            ]
          },
          "metadata": {
            "tags": []
          },
          "execution_count": 4
        }
      ]
    },
    {
      "cell_type": "markdown",
      "metadata": {
        "id": "tfdDs3RITmpd"
      },
      "source": [
        "## 테스트 데이터 예측하기"
      ]
    },
    {
      "cell_type": "code",
      "metadata": {
        "colab": {
          "base_uri": "https://localhost:8080/"
        },
        "id": "Ci3Hu3-eJse-",
        "outputId": "895f7cc2-29a2-4f99-8020-9dfc84509167"
      },
      "source": [
        "y_pred = model.predict([[5]])\n",
        "\n",
        "print(y_pred)"
      ],
      "execution_count": null,
      "outputs": [
        {
          "output_type": "stream",
          "text": [
            "[[49.643635]]\n"
          ],
          "name": "stdout"
        },
        {
          "output_type": "stream",
          "text": [
            "/usr/local/lib/python3.7/dist-packages/tensorflow/python/keras/engine/training.py:2426: UserWarning: `Model.state_updates` will be removed in a future version. This property should not be used in TensorFlow 2.0, as `updates` are applied automatically.\n",
            "  warnings.warn('`Model.state_updates` will be removed in a future version. '\n"
          ],
          "name": "stderr"
        }
      ]
    },
    {
      "cell_type": "code",
      "metadata": {
        "id": "g3hH1c-kmhSz"
      },
      "source": [
        ""
      ],
      "execution_count": null,
      "outputs": []
    }
  ]
}