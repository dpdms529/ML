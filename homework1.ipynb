{
  "nbformat": 4,
  "nbformat_minor": 0,
  "metadata": {
    "colab": {
      "name": "homework1.ipynb",
      "provenance": [],
      "authorship_tag": "ABX9TyNV5GqLQnZqHD1+eM3vBJas",
      "include_colab_link": true
    },
    "kernelspec": {
      "name": "python3",
      "display_name": "Python 3"
    },
    "language_info": {
      "name": "python"
    }
  },
  "cells": [
    {
      "cell_type": "markdown",
      "metadata": {
        "id": "view-in-github",
        "colab_type": "text"
      },
      "source": [
        "<a href=\"https://colab.research.google.com/github/dpdms529/ML/blob/main/homework1.ipynb\" target=\"_parent\"><img src=\"https://colab.research.google.com/assets/colab-badge.svg\" alt=\"Open In Colab\"/></a>"
      ]
    },
    {
      "cell_type": "code",
      "metadata": {
        "id": "Y_R-LTGDc3QD"
      },
      "source": [
        "import os\n",
        "os.environ['KAGGLE_USERNAME'] = '' # username\n",
        "os.environ['KAGGLE_KEY'] = '' # key"
      ],
      "execution_count": null,
      "outputs": []
    },
    {
      "cell_type": "code",
      "metadata": {
        "colab": {
          "base_uri": "https://localhost:8080/"
        },
        "id": "kNN9LVPqdluN",
        "outputId": "d9d5ebca-5563-4122-eebc-0a8609bdac20"
      },
      "source": [
        "!kaggle datasets download -d rsadiq/salary"
      ],
      "execution_count": null,
      "outputs": [
        {
          "output_type": "stream",
          "text": [
            "Downloading salary.zip to /content\n",
            "\r  0% 0.00/392 [00:00<?, ?B/s]\n",
            "\r100% 392/392 [00:00<00:00, 609kB/s]\n"
          ],
          "name": "stdout"
        }
      ]
    },
    {
      "cell_type": "code",
      "metadata": {
        "colab": {
          "base_uri": "https://localhost:8080/"
        },
        "id": "1GMjxXv2dw7V",
        "outputId": "3109f394-3953-4620-ecdb-66cbf7bf43d9"
      },
      "source": [
        "!unzip salary.zip"
      ],
      "execution_count": null,
      "outputs": [
        {
          "output_type": "stream",
          "text": [
            "Archive:  salary.zip\n",
            "  inflating: Salary.csv              \n"
          ],
          "name": "stdout"
        }
      ]
    },
    {
      "cell_type": "code",
      "metadata": {
        "id": "qDoRkIPHd0Vf"
      },
      "source": [
        "from tensorflow.keras.models import Sequential\n",
        "from tensorflow.keras.layers import Dense\n",
        "from tensorflow.keras.optimizers import Adam, SGD\n",
        "import numpy as np\n",
        "import pandas as pd\n",
        "import matplotlib.pyplot as plt\n",
        "import seaborn as sns\n",
        "from sklearn.model_selection import train_test_split\n",
        "\n",
        "df = pd.read_csv('Salary.csv')"
      ],
      "execution_count": null,
      "outputs": []
    },
    {
      "cell_type": "code",
      "metadata": {
        "colab": {
          "base_uri": "https://localhost:8080/"
        },
        "id": "zYrW8Kz1ebGh",
        "outputId": "aefeb528-a8bf-4f75-c428-096aced0f288"
      },
      "source": [
        "x_data = np.array(df['YearsExperience'], dtype=np.float32)\n",
        "y_data = np.array(df['Salary'],dtype=np.float32)\n",
        "\n",
        "x_data = x_data.reshape((-1,1))\n",
        "y_data = y_data.reshape((-1,1))\n",
        "\n",
        "print(x_data.shape)\n",
        "print(y_data.shape)"
      ],
      "execution_count": null,
      "outputs": [
        {
          "output_type": "stream",
          "text": [
            "(35, 1)\n",
            "(35, 1)\n"
          ],
          "name": "stdout"
        }
      ]
    },
    {
      "cell_type": "code",
      "metadata": {
        "colab": {
          "base_uri": "https://localhost:8080/"
        },
        "id": "hspC6__fezxp",
        "outputId": "75382a10-f4d4-4cd0-bc38-53b4801d6e56"
      },
      "source": [
        "x_train, x_val, y_train, y_val = train_test_split(x_data, y_data, test_size=0.2, random_state=2021)\n",
        "\n",
        "print(x_train.shape, x_val.shape)\n",
        "print(y_train.shape, y_val.shape)"
      ],
      "execution_count": null,
      "outputs": [
        {
          "output_type": "stream",
          "text": [
            "(28, 1) (7, 1)\n",
            "(28, 1) (7, 1)\n"
          ],
          "name": "stdout"
        }
      ]
    },
    {
      "cell_type": "code",
      "metadata": {
        "colab": {
          "base_uri": "https://localhost:8080/"
        },
        "id": "qpAwPoeBfLWa",
        "outputId": "0abf2785-2dbc-46eb-8de0-652533fc36c7"
      },
      "source": [
        "model = Sequential([\n",
        "                    Dense(1)\n",
        "])\n",
        "\n",
        "model.compile(loss='mean_squared_error', optimizer=SGD(lr=0.01))"
      ],
      "execution_count": null,
      "outputs": [
        {
          "output_type": "stream",
          "text": [
            "/usr/local/lib/python3.7/dist-packages/tensorflow/python/keras/optimizer_v2/optimizer_v2.py:375: UserWarning: The `lr` argument is deprecated, use `learning_rate` instead.\n",
            "  \"The `lr` argument is deprecated, use `learning_rate` instead.\")\n"
          ],
          "name": "stderr"
        }
      ]
    },
    {
      "cell_type": "code",
      "metadata": {
        "colab": {
          "base_uri": "https://localhost:8080/"
        },
        "id": "n8YIWyuhfdmD",
        "outputId": "122f6ffe-5908-497d-f9d7-031f100905dd"
      },
      "source": [
        "model.fit(\n",
        "    x_train,\n",
        "    y_train,\n",
        "    validation_data=(x_val, y_val),\n",
        "    epochs=100\n",
        ")"
      ],
      "execution_count": null,
      "outputs": [
        {
          "output_type": "stream",
          "text": [
            "Epoch 1/100\n",
            "1/1 [==============================] - 0s 303ms/step - loss: 8667364352.0000 - val_loss: 144188240.0000\n",
            "Epoch 2/100\n",
            "1/1 [==============================] - 0s 22ms/step - loss: 520607488.0000 - val_loss: 311875424.0000\n",
            "Epoch 3/100\n",
            "1/1 [==============================] - 0s 23ms/step - loss: 218536064.0000 - val_loss: 245428432.0000\n",
            "Epoch 4/100\n",
            "1/1 [==============================] - 0s 23ms/step - loss: 205774192.0000 - val_loss: 254774432.0000\n",
            "Epoch 5/100\n",
            "1/1 [==============================] - 0s 23ms/step - loss: 203696656.0000 - val_loss: 250785792.0000\n",
            "Epoch 6/100\n",
            "1/1 [==============================] - 0s 26ms/step - loss: 202028400.0000 - val_loss: 249410208.0000\n",
            "Epoch 7/100\n",
            "1/1 [==============================] - 0s 21ms/step - loss: 200390112.0000 - val_loss: 247556608.0000\n",
            "Epoch 8/100\n",
            "1/1 [==============================] - 0s 22ms/step - loss: 198767840.0000 - val_loss: 245814448.0000\n",
            "Epoch 9/100\n",
            "1/1 [==============================] - 0s 21ms/step - loss: 197160880.0000 - val_loss: 244070736.0000\n",
            "Epoch 10/100\n",
            "1/1 [==============================] - 0s 26ms/step - loss: 195569200.0000 - val_loss: 242346992.0000\n",
            "Epoch 11/100\n",
            "1/1 [==============================] - 0s 28ms/step - loss: 193992480.0000 - val_loss: 240638896.0000\n",
            "Epoch 12/100\n",
            "1/1 [==============================] - 0s 22ms/step - loss: 192430592.0000 - val_loss: 238946944.0000\n",
            "Epoch 13/100\n",
            "1/1 [==============================] - 0s 23ms/step - loss: 190883408.0000 - val_loss: 237271024.0000\n",
            "Epoch 14/100\n",
            "1/1 [==============================] - 0s 23ms/step - loss: 189350880.0000 - val_loss: 235610896.0000\n",
            "Epoch 15/100\n",
            "1/1 [==============================] - 0s 23ms/step - loss: 187832784.0000 - val_loss: 233966480.0000\n",
            "Epoch 16/100\n",
            "1/1 [==============================] - 0s 26ms/step - loss: 186329072.0000 - val_loss: 232337440.0000\n",
            "Epoch 17/100\n",
            "1/1 [==============================] - 0s 23ms/step - loss: 184839472.0000 - val_loss: 230723968.0000\n",
            "Epoch 18/100\n",
            "1/1 [==============================] - 0s 21ms/step - loss: 183363968.0000 - val_loss: 229125648.0000\n",
            "Epoch 19/100\n",
            "1/1 [==============================] - 0s 22ms/step - loss: 181902448.0000 - val_loss: 227542544.0000\n",
            "Epoch 20/100\n",
            "1/1 [==============================] - 0s 25ms/step - loss: 180454640.0000 - val_loss: 225974224.0000\n",
            "Epoch 21/100\n",
            "1/1 [==============================] - 0s 22ms/step - loss: 179020512.0000 - val_loss: 224420752.0000\n",
            "Epoch 22/100\n",
            "1/1 [==============================] - 0s 21ms/step - loss: 177599872.0000 - val_loss: 222882032.0000\n",
            "Epoch 23/100\n",
            "1/1 [==============================] - 0s 42ms/step - loss: 176192656.0000 - val_loss: 221357824.0000\n",
            "Epoch 24/100\n",
            "1/1 [==============================] - 0s 23ms/step - loss: 174798736.0000 - val_loss: 219847904.0000\n",
            "Epoch 25/100\n",
            "1/1 [==============================] - 0s 29ms/step - loss: 173417984.0000 - val_loss: 218352288.0000\n",
            "Epoch 26/100\n",
            "1/1 [==============================] - 0s 29ms/step - loss: 172050176.0000 - val_loss: 216870864.0000\n",
            "Epoch 27/100\n",
            "1/1 [==============================] - 0s 23ms/step - loss: 170695344.0000 - val_loss: 215403312.0000\n",
            "Epoch 28/100\n",
            "1/1 [==============================] - 0s 22ms/step - loss: 169353248.0000 - val_loss: 213949616.0000\n",
            "Epoch 29/100\n",
            "1/1 [==============================] - 0s 25ms/step - loss: 168023840.0000 - val_loss: 212509824.0000\n",
            "Epoch 30/100\n",
            "1/1 [==============================] - 0s 26ms/step - loss: 166707040.0000 - val_loss: 211083568.0000\n",
            "Epoch 31/100\n",
            "1/1 [==============================] - 0s 31ms/step - loss: 165402592.0000 - val_loss: 209670736.0000\n",
            "Epoch 32/100\n",
            "1/1 [==============================] - 0s 25ms/step - loss: 164110512.0000 - val_loss: 208271312.0000\n",
            "Epoch 33/100\n",
            "1/1 [==============================] - 0s 26ms/step - loss: 162830512.0000 - val_loss: 206884848.0000\n",
            "Epoch 34/100\n",
            "1/1 [==============================] - 0s 23ms/step - loss: 161562640.0000 - val_loss: 205511792.0000\n",
            "Epoch 35/100\n",
            "1/1 [==============================] - 0s 26ms/step - loss: 160306800.0000 - val_loss: 204151552.0000\n",
            "Epoch 36/100\n",
            "1/1 [==============================] - 0s 24ms/step - loss: 159062688.0000 - val_loss: 202804144.0000\n",
            "Epoch 37/100\n",
            "1/1 [==============================] - 0s 22ms/step - loss: 157830480.0000 - val_loss: 201469568.0000\n",
            "Epoch 38/100\n",
            "1/1 [==============================] - 0s 24ms/step - loss: 156609712.0000 - val_loss: 200147472.0000\n",
            "Epoch 39/100\n",
            "1/1 [==============================] - 0s 23ms/step - loss: 155400592.0000 - val_loss: 198838000.0000\n",
            "Epoch 40/100\n",
            "1/1 [==============================] - 0s 25ms/step - loss: 154202832.0000 - val_loss: 197540752.0000\n",
            "Epoch 41/100\n",
            "1/1 [==============================] - 0s 30ms/step - loss: 153016336.0000 - val_loss: 196255872.0000\n",
            "Epoch 42/100\n",
            "1/1 [==============================] - 0s 23ms/step - loss: 151841056.0000 - val_loss: 194983008.0000\n",
            "Epoch 43/100\n",
            "1/1 [==============================] - 0s 24ms/step - loss: 150676912.0000 - val_loss: 193722240.0000\n",
            "Epoch 44/100\n",
            "1/1 [==============================] - 0s 24ms/step - loss: 149523744.0000 - val_loss: 192473328.0000\n",
            "Epoch 45/100\n",
            "1/1 [==============================] - 0s 22ms/step - loss: 148381424.0000 - val_loss: 191236208.0000\n",
            "Epoch 46/100\n",
            "1/1 [==============================] - 0s 27ms/step - loss: 147249904.0000 - val_loss: 190010896.0000\n",
            "Epoch 47/100\n",
            "1/1 [==============================] - 0s 22ms/step - loss: 146129024.0000 - val_loss: 188796960.0000\n",
            "Epoch 48/100\n",
            "1/1 [==============================] - 0s 20ms/step - loss: 145018720.0000 - val_loss: 187594672.0000\n",
            "Epoch 49/100\n",
            "1/1 [==============================] - 0s 23ms/step - loss: 143918928.0000 - val_loss: 186403600.0000\n",
            "Epoch 50/100\n",
            "1/1 [==============================] - 0s 21ms/step - loss: 142829488.0000 - val_loss: 185223808.0000\n",
            "Epoch 51/100\n",
            "1/1 [==============================] - 0s 21ms/step - loss: 141750320.0000 - val_loss: 184055312.0000\n",
            "Epoch 52/100\n",
            "1/1 [==============================] - 0s 23ms/step - loss: 140681376.0000 - val_loss: 182897680.0000\n",
            "Epoch 53/100\n",
            "1/1 [==============================] - 0s 24ms/step - loss: 139622480.0000 - val_loss: 181751008.0000\n",
            "Epoch 54/100\n",
            "1/1 [==============================] - 0s 28ms/step - loss: 138573616.0000 - val_loss: 180615264.0000\n",
            "Epoch 55/100\n",
            "1/1 [==============================] - 0s 25ms/step - loss: 137534624.0000 - val_loss: 179490096.0000\n",
            "Epoch 56/100\n",
            "1/1 [==============================] - 0s 24ms/step - loss: 136505392.0000 - val_loss: 178375600.0000\n",
            "Epoch 57/100\n",
            "1/1 [==============================] - 0s 23ms/step - loss: 135485904.0000 - val_loss: 177271584.0000\n",
            "Epoch 58/100\n",
            "1/1 [==============================] - 0s 36ms/step - loss: 134476048.0000 - val_loss: 176178160.0000\n",
            "Epoch 59/100\n",
            "1/1 [==============================] - 0s 29ms/step - loss: 133475712.0000 - val_loss: 175094960.0000\n",
            "Epoch 60/100\n",
            "1/1 [==============================] - 0s 24ms/step - loss: 132484784.0000 - val_loss: 174021984.0000\n",
            "Epoch 61/100\n",
            "1/1 [==============================] - 0s 23ms/step - loss: 131503288.0000 - val_loss: 172959280.0000\n",
            "Epoch 62/100\n",
            "1/1 [==============================] - 0s 27ms/step - loss: 130530960.0000 - val_loss: 171906400.0000\n",
            "Epoch 63/100\n",
            "1/1 [==============================] - 0s 30ms/step - loss: 129567856.0000 - val_loss: 170863456.0000\n",
            "Epoch 64/100\n",
            "1/1 [==============================] - 0s 22ms/step - loss: 128613808.0000 - val_loss: 169830576.0000\n",
            "Epoch 65/100\n",
            "1/1 [==============================] - 0s 25ms/step - loss: 127668800.0000 - val_loss: 168807296.0000\n",
            "Epoch 66/100\n",
            "1/1 [==============================] - 0s 25ms/step - loss: 126732664.0000 - val_loss: 167793664.0000\n",
            "Epoch 67/100\n",
            "1/1 [==============================] - 0s 26ms/step - loss: 125805432.0000 - val_loss: 166789744.0000\n",
            "Epoch 68/100\n",
            "1/1 [==============================] - 0s 23ms/step - loss: 124886872.0000 - val_loss: 165795248.0000\n",
            "Epoch 69/100\n",
            "1/1 [==============================] - 0s 27ms/step - loss: 123977032.0000 - val_loss: 164810080.0000\n",
            "Epoch 70/100\n",
            "1/1 [==============================] - 0s 25ms/step - loss: 123075704.0000 - val_loss: 163834256.0000\n",
            "Epoch 71/100\n",
            "1/1 [==============================] - 0s 30ms/step - loss: 122182968.0000 - val_loss: 162867600.0000\n",
            "Epoch 72/100\n",
            "1/1 [==============================] - 0s 27ms/step - loss: 121298568.0000 - val_loss: 161910128.0000\n",
            "Epoch 73/100\n",
            "1/1 [==============================] - 0s 23ms/step - loss: 120422576.0000 - val_loss: 160961808.0000\n",
            "Epoch 74/100\n",
            "1/1 [==============================] - 0s 21ms/step - loss: 119554800.0000 - val_loss: 160022192.0000\n",
            "Epoch 75/100\n",
            "1/1 [==============================] - 0s 25ms/step - loss: 118695312.0000 - val_loss: 159091616.0000\n",
            "Epoch 76/100\n",
            "1/1 [==============================] - 0s 22ms/step - loss: 117843824.0000 - val_loss: 158169824.0000\n",
            "Epoch 77/100\n",
            "1/1 [==============================] - 0s 20ms/step - loss: 117000424.0000 - val_loss: 157256784.0000\n",
            "Epoch 78/100\n",
            "1/1 [==============================] - 0s 28ms/step - loss: 116164928.0000 - val_loss: 156352240.0000\n",
            "Epoch 79/100\n",
            "1/1 [==============================] - 0s 23ms/step - loss: 115337360.0000 - val_loss: 155456288.0000\n",
            "Epoch 80/100\n",
            "1/1 [==============================] - 0s 23ms/step - loss: 114517608.0000 - val_loss: 154568800.0000\n",
            "Epoch 81/100\n",
            "1/1 [==============================] - 0s 22ms/step - loss: 113705576.0000 - val_loss: 153689744.0000\n",
            "Epoch 82/100\n",
            "1/1 [==============================] - 0s 33ms/step - loss: 112901160.0000 - val_loss: 152818928.0000\n",
            "Epoch 83/100\n",
            "1/1 [==============================] - 0s 32ms/step - loss: 112104432.0000 - val_loss: 151956368.0000\n",
            "Epoch 84/100\n",
            "1/1 [==============================] - 0s 24ms/step - loss: 111315144.0000 - val_loss: 151101968.0000\n",
            "Epoch 85/100\n",
            "1/1 [==============================] - 0s 22ms/step - loss: 110533320.0000 - val_loss: 150255600.0000\n",
            "Epoch 86/100\n",
            "1/1 [==============================] - 0s 23ms/step - loss: 109758872.0000 - val_loss: 149417248.0000\n",
            "Epoch 87/100\n",
            "1/1 [==============================] - 0s 23ms/step - loss: 108991696.0000 - val_loss: 148586784.0000\n",
            "Epoch 88/100\n",
            "1/1 [==============================] - 0s 24ms/step - loss: 108231856.0000 - val_loss: 147764208.0000\n",
            "Epoch 89/100\n",
            "1/1 [==============================] - 0s 21ms/step - loss: 107479104.0000 - val_loss: 146949408.0000\n",
            "Epoch 90/100\n",
            "1/1 [==============================] - 0s 21ms/step - loss: 106733528.0000 - val_loss: 146142336.0000\n",
            "Epoch 91/100\n",
            "1/1 [==============================] - 0s 26ms/step - loss: 105994904.0000 - val_loss: 145342832.0000\n",
            "Epoch 92/100\n",
            "1/1 [==============================] - 0s 24ms/step - loss: 105263280.0000 - val_loss: 144550816.0000\n",
            "Epoch 93/100\n",
            "1/1 [==============================] - 0s 29ms/step - loss: 104538560.0000 - val_loss: 143766416.0000\n",
            "Epoch 94/100\n",
            "1/1 [==============================] - 0s 30ms/step - loss: 103820664.0000 - val_loss: 142989280.0000\n",
            "Epoch 95/100\n",
            "1/1 [==============================] - 0s 29ms/step - loss: 103109544.0000 - val_loss: 142219664.0000\n",
            "Epoch 96/100\n",
            "1/1 [==============================] - 0s 24ms/step - loss: 102405136.0000 - val_loss: 141457152.0000\n",
            "Epoch 97/100\n",
            "1/1 [==============================] - 0s 23ms/step - loss: 101707408.0000 - val_loss: 140701856.0000\n",
            "Epoch 98/100\n",
            "1/1 [==============================] - 0s 23ms/step - loss: 101016248.0000 - val_loss: 139953808.0000\n",
            "Epoch 99/100\n",
            "1/1 [==============================] - 0s 23ms/step - loss: 100331592.0000 - val_loss: 139212768.0000\n",
            "Epoch 100/100\n",
            "1/1 [==============================] - 0s 24ms/step - loss: 99653400.0000 - val_loss: 138478704.0000\n"
          ],
          "name": "stdout"
        },
        {
          "output_type": "execute_result",
          "data": {
            "text/plain": [
              "<tensorflow.python.keras.callbacks.History at 0x7f3138645d50>"
            ]
          },
          "metadata": {
            "tags": []
          },
          "execution_count": 51
        }
      ]
    },
    {
      "cell_type": "code",
      "metadata": {
        "colab": {
          "base_uri": "https://localhost:8080/",
          "height": 266
        },
        "id": "VkM7LQZAf6x1",
        "outputId": "8e50a230-e3d8-4a1e-80b9-529b0dfdbec4"
      },
      "source": [
        "y_pred = model.predict(x_val)\n",
        "\n",
        "plt.scatter(x_val, y_val)\n",
        "plt.scatter(x_val, y_pred, color='r')\n",
        "plt.show()"
      ],
      "execution_count": null,
      "outputs": [
        {
          "output_type": "display_data",
          "data": {
            "image/png": "[encoded data removed]",
            "text/plain": [
              "<Figure size 432x288 with 1 Axes>"
            ]
          },
          "metadata": {
            "tags": [],
            "needs_background": "light"
          }
        }
      ]
    },
    {
      "cell_type": "code",
      "metadata": {
        "id": "d-YkAGz0gPYC"
      },
      "source": [
        ""
      ],
      "execution_count": null,
      "outputs": []
    }
  ]
}
